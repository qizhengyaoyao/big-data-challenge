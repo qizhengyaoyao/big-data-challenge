{
  "nbformat": 4,
  "nbformat_minor": 0,
  "metadata": {
    "colab": {
      "name": "personal_care_aws_reviews",
      "provenance": [],
      "collapsed_sections": []
    },
    "kernelspec": {
      "name": "python3",
      "display_name": "Python 3"
    },
    "language_info": {
      "name": "python"
    }
  },
  "cells": [
    {
      "cell_type": "code",
      "metadata": {
        "colab": {
          "base_uri": "https://localhost:8080/"
        },
        "id": "QDMh1MbBUPJm",
        "outputId": "85a3ae71-9ff3-4a1b-ab79-00ae9cac474a"
      },
      "source": [
        "import os\n",
        "# Find the latest version of spark 3.0  from http://www-us.apache.org/dist/spark/ and enter as the spark version\n",
        "# For example:\n",
        "# spark_version = 'spark-3.0.2'\n",
        "spark_version = 'spark-3.1.1'\n",
        "os.environ['SPARK_VERSION']=spark_version\n",
        "\n",
        "# Install Spark and Java\n",
        "!apt-get update\n",
        "!apt-get install openjdk-11-jdk-headless -qq > /dev/null\n",
        "!wget -q http://www-us.apache.org/dist/spark/$SPARK_VERSION/$SPARK_VERSION-bin-hadoop2.7.tgz\n",
        "!tar xf $SPARK_VERSION-bin-hadoop2.7.tgz\n",
        "!pip install -q findspark\n",
        "\n",
        "# Set Environment Variables\n",
        "os.environ[\"JAVA_HOME\"] = \"/usr/lib/jvm/java-11-openjdk-amd64\"\n",
        "os.environ[\"SPARK_HOME\"] = f\"/content/{spark_version}-bin-hadoop2.7\"\n",
        "\n",
        "# Start a SparkSession\n",
        "import findspark\n",
        "findspark.init()"
      ],
      "execution_count": 1,
      "outputs": [
        {
          "output_type": "stream",
          "text": [
            "\r0% [Working]\r            \rGet:1 http://security.ubuntu.com/ubuntu bionic-security InRelease [88.7 kB]\n",
            "\r0% [Connecting to archive.ubuntu.com (91.189.88.152)] [1 InRelease 14.2 kB/88.7\r0% [Connecting to archive.ubuntu.com (91.189.88.152)] [Waiting for headers] [Wa\r                                                                               \rGet:2 https://cloud.r-project.org/bin/linux/ubuntu bionic-cran40/ InRelease [3,626 B]\n",
            "Ign:3 https://developer.download.nvidia.com/compute/cuda/repos/ubuntu1804/x86_64  InRelease\n",
            "Get:4 http://ppa.launchpad.net/c2d4u.team/c2d4u4.0+/ubuntu bionic InRelease [15.9 kB]\n",
            "Ign:5 https://developer.download.nvidia.com/compute/machine-learning/repos/ubuntu1804/x86_64  InRelease\n",
            "Get:6 https://developer.download.nvidia.com/compute/cuda/repos/ubuntu1804/x86_64  Release [697 B]\n",
            "Hit:7 http://archive.ubuntu.com/ubuntu bionic InRelease\n",
            "Hit:8 https://developer.download.nvidia.com/compute/machine-learning/repos/ubuntu1804/x86_64  Release\n",
            "Get:9 https://developer.download.nvidia.com/compute/cuda/repos/ubuntu1804/x86_64  Release.gpg [836 B]\n",
            "Get:10 http://archive.ubuntu.com/ubuntu bionic-updates InRelease [88.7 kB]\n",
            "Hit:11 http://ppa.launchpad.net/cran/libgit2/ubuntu bionic InRelease\n",
            "Get:12 http://security.ubuntu.com/ubuntu bionic-security/main amd64 Packages [2,150 kB]\n",
            "Get:13 http://archive.ubuntu.com/ubuntu bionic-backports InRelease [74.6 kB]\n",
            "Hit:14 http://ppa.launchpad.net/deadsnakes/ppa/ubuntu bionic InRelease\n",
            "Get:15 http://security.ubuntu.com/ubuntu bionic-security/restricted amd64 Packages [423 kB]\n",
            "Get:16 http://security.ubuntu.com/ubuntu bionic-security/universe amd64 Packages [1,411 kB]\n",
            "Get:17 https://cloud.r-project.org/bin/linux/ubuntu bionic-cran40/ Packages [56.8 kB]\n",
            "Get:18 http://ppa.launchpad.net/graphics-drivers/ppa/ubuntu bionic InRelease [21.3 kB]\n",
            "Ign:20 https://developer.download.nvidia.com/compute/cuda/repos/ubuntu1804/x86_64  Packages\n",
            "Get:20 https://developer.download.nvidia.com/compute/cuda/repos/ubuntu1804/x86_64  Packages [772 kB]\n",
            "Get:21 http://ppa.launchpad.net/c2d4u.team/c2d4u4.0+/ubuntu bionic/main Sources [1,767 kB]\n",
            "Get:22 http://archive.ubuntu.com/ubuntu bionic-updates/universe amd64 Packages [2,183 kB]\n",
            "Get:23 http://ppa.launchpad.net/c2d4u.team/c2d4u4.0+/ubuntu bionic/main amd64 Packages [904 kB]\n",
            "Get:24 http://archive.ubuntu.com/ubuntu bionic-updates/restricted amd64 Packages [452 kB]\n",
            "Get:25 http://archive.ubuntu.com/ubuntu bionic-updates/main amd64 Packages [2,582 kB]\n",
            "Get:26 http://ppa.launchpad.net/graphics-drivers/ppa/ubuntu bionic/main amd64 Packages [41.5 kB]\n",
            "Fetched 13.0 MB in 4s (3,529 kB/s)\n",
            "Reading package lists... Done\n"
          ],
          "name": "stdout"
        }
      ]
    },
    {
      "cell_type": "code",
      "metadata": {
        "colab": {
          "base_uri": "https://localhost:8080/"
        },
        "id": "H49tpWptUaK_",
        "outputId": "672cc7a7-3734-4898-8831-c2ef57ee8536"
      },
      "source": [
        "!wget https://jdbc.postgresql.org/download/postgresql-42.2.9.jar"
      ],
      "execution_count": 2,
      "outputs": [
        {
          "output_type": "stream",
          "text": [
            "--2021-05-16 23:44:15--  https://jdbc.postgresql.org/download/postgresql-42.2.9.jar\n",
            "Resolving jdbc.postgresql.org (jdbc.postgresql.org)... 72.32.157.228, 2001:4800:3e1:1::228\n",
            "Connecting to jdbc.postgresql.org (jdbc.postgresql.org)|72.32.157.228|:443... connected.\n",
            "HTTP request sent, awaiting response... 200 OK\n",
            "Length: 914037 (893K) [application/java-archive]\n",
            "Saving to: ‘postgresql-42.2.9.jar’\n",
            "\n",
            "postgresql-42.2.9.j 100%[===================>] 892.61K  --.-KB/s    in 0.1s    \n",
            "\n",
            "2021-05-16 23:44:16 (6.06 MB/s) - ‘postgresql-42.2.9.jar’ saved [914037/914037]\n",
            "\n"
          ],
          "name": "stdout"
        }
      ]
    },
    {
      "cell_type": "code",
      "metadata": {
        "id": "dAPDwXHZUyWZ"
      },
      "source": [
        "from pyspark.sql import SparkSession\n",
        "spark = SparkSession.builder.appName(\"CloudETL_AWS_personal_care\").config(\"spark.driver.extraClassPath\",\"/content/postgresql-42.2.9.jar\").getOrCreate()"
      ],
      "execution_count": 3,
      "outputs": []
    },
    {
      "cell_type": "code",
      "metadata": {
        "colab": {
          "base_uri": "https://localhost:8080/"
        },
        "id": "pKRlc6JAeZEs",
        "outputId": "8b1a5657-83aa-4dad-e8dc-742a7029080a"
      },
      "source": [
        "# Setup config file location\n",
        "from google.colab import drive\n",
        "drive.mount('/content/drive')\n",
        "import sys\n",
        "sys.path.append('/content/drive/My Drive')"
      ],
      "execution_count": 4,
      "outputs": [
        {
          "output_type": "stream",
          "text": [
            "Mounted at /content/drive\n"
          ],
          "name": "stdout"
        }
      ]
    },
    {
      "cell_type": "code",
      "metadata": {
        "id": "B0mHRKhgDBEa"
      },
      "source": [
        "from config import aws_rds_endpoint\n",
        "from config import aws_rds_password\n",
        "# Configuration for RDS instance\n",
        "jdbc_url = f\"jdbc:postgresql://{aws_rds_endpoint}:5432/big_data_db\"\n",
        "mode_1=\"append\"\n",
        "config_1 = {\"user\":\"postgres\",\n",
        "          \"password\": aws_rds_password,\n",
        "          \"driver\":\"org.postgresql.Driver\"}\n",
        "mode_2=\"overwrite\"\n",
        "config_2 = {\"user\":\"postgres\",\n",
        "          \"password\": aws_rds_password,\n",
        "          \"truncate\": \"true\",\n",
        "          \"driver\":\"org.postgresql.Driver\"}"
      ],
      "execution_count": 5,
      "outputs": []
    },
    {
      "cell_type": "code",
      "metadata": {
        "colab": {
          "base_uri": "https://localhost:8080/"
        },
        "id": "i5K3pkyAU-k9",
        "outputId": "4fabe643-52d6-4ac2-b1da-82e73f0f9d80"
      },
      "source": [
        "from pyspark import SparkFiles\n",
        "#load software reviews data from s3.amazonaws.com\n",
        "url = \"https://s3.amazonaws.com/amazon-reviews-pds/tsv/amazon_reviews_us_Personal_Care_Appliances_v1_00.tsv.gz\"\n",
        "spark.sparkContext.addFile(url)\n",
        "\n",
        "percare_df = spark.read.option(\"header\",\"true\").csv(SparkFiles.get(\"amazon_reviews_us_Personal_Care_Appliances_v1_00.tsv.gz\"), inferSchema=True, dateFormat=\"yyyy-MM-dd\",sep=\"\\t\")\n",
        "percare_df.show(10)"
      ],
      "execution_count": 6,
      "outputs": [
        {
          "output_type": "stream",
          "text": [
            "+-----------+-----------+--------------+----------+--------------+--------------------+--------------------+-----------+-------------+-----------+----+-----------------+--------------------+--------------------+-----------+\n",
            "|marketplace|customer_id|     review_id|product_id|product_parent|       product_title|    product_category|star_rating|helpful_votes|total_votes|vine|verified_purchase|     review_headline|         review_body|review_date|\n",
            "+-----------+-----------+--------------+----------+--------------+--------------------+--------------------+-----------+-------------+-----------+----+-----------------+--------------------+--------------------+-----------+\n",
            "|         US|   32114233|R1QX6706ZWJ1P5|B00OYRW4UE|     223980852|Elite Sportz Exer...|Personal_Care_App...|          5|            0|          0|   N|                Y|Good quality. Shi...|Exactly as descri...| 2015-08-31|\n",
            "|         US|   18125776|R3QWMLJHIW6P37|B0000537JQ|     819771537|     Ezy Dose Weekly|Personal_Care_App...|          5|            0|          0|   N|                Y|          Five Stars|         It is great| 2015-08-31|\n",
            "|         US|   19917519|R14Z1VR1N0Z9G6|B00HXXO332|     849307176|Pulse Oximeter, B...|Personal_Care_App...|          5|            1|          1|   N|                Y|It's really nice ...|It's really nice ...| 2015-08-31|\n",
            "|         US|   18277171| R25ZRJL0GH0U0|B00EOB0JA2|     700864740|SE Tools Tool Kit...|Personal_Care_App...|          2|            0|          0|   N|                Y|           Two Stars|The kit works fin...| 2015-08-31|\n",
            "|         US|    2593270|R3837KYH7AZNIY|B00OC2O1UC|     794298839|doTERRA HD Clear ...|Personal_Care_App...|          4|            0|          1|   N|                Y|          Four Stars|It works better t...| 2015-08-31|\n",
            "|         US|    2592955|R2MN0QYCY6EVIV|B00HES9CMS|     318730927|Viva Naturals #1 ...|Personal_Care_App...|          5|            0|          0|   N|                Y|      not bad at all|I added to my oat...| 2015-08-31|\n",
            "|         US|   15168265|R3AN2UJ1D42ZS0|B0016BFR4G|     887476137|Uncle Lee's Organ...|Personal_Care_App...|          5|            0|          0|   N|                Y|Mild, enjoyable t...|Husband drinks th...| 2015-08-31|\n",
            "|         US|   13761624|R3U29ZLUWEEK4M|B00K504UUG|     458706868|Syrtenty Electrod...|Personal_Care_App...|          5|            0|          0|   N|                Y|          Five Stars|       Good quality.| 2015-08-31|\n",
            "|         US|   37070734|R16ZDMJJHK796C|B00HES9CMS|     318730927|Viva Naturals #1 ...|Personal_Care_App...|          5|            0|          0|   N|                N|        High Quality|This is high qual...| 2015-08-31|\n",
            "|         US|   29615023| RRRDOEJZD1Y22|B00P6TUO5G|     170248843|Viva Naturals Org...|Personal_Care_App...|          4|            0|          0|   N|                Y|          we like it|Buying more produ...| 2015-08-31|\n",
            "+-----------+-----------+--------------+----------+--------------+--------------------+--------------------+-----------+-------------+-----------+----+-----------------+--------------------+--------------------+-----------+\n",
            "only showing top 10 rows\n",
            "\n"
          ],
          "name": "stdout"
        }
      ]
    },
    {
      "cell_type": "markdown",
      "metadata": {
        "id": "V7VFZBnbVRcW"
      },
      "source": [
        "# **Drop duplicates and incomplete rows**"
      ]
    },
    {
      "cell_type": "code",
      "metadata": {
        "colab": {
          "base_uri": "https://localhost:8080/"
        },
        "id": "GEmuRh9TVNIV",
        "outputId": "177435ce-fab5-4bff-8e5e-13697e70c62c"
      },
      "source": [
        "percare_df = percare_df.drop(\"marketplace\",\"product_category\",\"verified_purchase\",\"review_headline\",\"review_body\")\n",
        "print(percare_df.count())\n",
        "percare_df = percare_df.dropna()\n",
        "print(percare_df.count())\n",
        "percare_df = percare_df.dropDuplicates()\n",
        "print(percare_df.count())"
      ],
      "execution_count": 7,
      "outputs": [
        {
          "output_type": "stream",
          "text": [
            "85981\n",
            "85978\n",
            "85978\n"
          ],
          "name": "stdout"
        }
      ]
    },
    {
      "cell_type": "markdown",
      "metadata": {
        "id": "vilEUB9rVuDF"
      },
      "source": [
        "# **Examine the schema**"
      ]
    },
    {
      "cell_type": "code",
      "metadata": {
        "colab": {
          "base_uri": "https://localhost:8080/"
        },
        "id": "Bzg34LOKVrXB",
        "outputId": "78dc06b8-b9a1-419a-f061-7ea010997bb2"
      },
      "source": [
        "percare_df.printSchema()"
      ],
      "execution_count": 8,
      "outputs": [
        {
          "output_type": "stream",
          "text": [
            "root\n",
            " |-- customer_id: integer (nullable = true)\n",
            " |-- review_id: string (nullable = true)\n",
            " |-- product_id: string (nullable = true)\n",
            " |-- product_parent: integer (nullable = true)\n",
            " |-- product_title: string (nullable = true)\n",
            " |-- star_rating: integer (nullable = true)\n",
            " |-- helpful_votes: integer (nullable = true)\n",
            " |-- total_votes: integer (nullable = true)\n",
            " |-- vine: string (nullable = true)\n",
            " |-- review_date: string (nullable = true)\n",
            "\n"
          ],
          "name": "stdout"
        }
      ]
    },
    {
      "cell_type": "markdown",
      "metadata": {
        "id": "7Bj60VNUZwtK"
      },
      "source": [
        "# **Transfor Dataframe type**"
      ]
    },
    {
      "cell_type": "code",
      "metadata": {
        "colab": {
          "base_uri": "https://localhost:8080/"
        },
        "id": "OSOSB65HZ7gh",
        "outputId": "3afc3443-9f1a-4113-d416-cc5ff197d35b"
      },
      "source": [
        "import datetime\n",
        "percare_df = percare_df.withColumn(\"review_date\",percare_df[\"review_date\"].cast(\"date\"))\n",
        "percare_df.show(5)"
      ],
      "execution_count": 9,
      "outputs": [
        {
          "output_type": "stream",
          "text": [
            "+-----------+--------------+----------+--------------+--------------------+-----------+-------------+-----------+----+-----------+\n",
            "|customer_id|     review_id|product_id|product_parent|       product_title|star_rating|helpful_votes|total_votes|vine|review_date|\n",
            "+-----------+--------------+----------+--------------+--------------------+-----------+-------------+-----------+----+-----------+\n",
            "|   37501537|R23QUEX8A6ZGT5|B00HES9CMS|     318730927|Viva Naturals #1 ...|          5|            0|          0|   N| 2015-08-27|\n",
            "|   33405988| R4BE55RS5NT8H|B00HES9CMS|     318730927|Viva Naturals #1 ...|          4|            0|          0|   N| 2015-08-26|\n",
            "|   29991695|R26VH1I5MJ1FA3|B00OSAUYTA|     792155282|Psoriasis & Eczem...|          5|            0|          0|   N| 2015-08-24|\n",
            "|   11229098|R2K8RBIYHER7WJ|B001V9QMMO|     618360222|Fixodent Denture ...|          5|            0|          0|   N| 2015-08-04|\n",
            "|   10837312|R1ASFHMO6PUUCT|B00H9L7VIW|     851045898|boostULTIMATE - 6...|          5|            1|          1|   N| 2015-08-03|\n",
            "+-----------+--------------+----------+--------------+--------------------+-----------+-------------+-----------+----+-----------+\n",
            "only showing top 5 rows\n",
            "\n"
          ],
          "name": "stdout"
        }
      ]
    },
    {
      "cell_type": "code",
      "metadata": {
        "colab": {
          "base_uri": "https://localhost:8080/"
        },
        "id": "NYP9_VStbk64",
        "outputId": "607a9d19-7de8-4a83-f4f6-5fedd41c86cf"
      },
      "source": [
        "percare_df.printSchema()"
      ],
      "execution_count": 10,
      "outputs": [
        {
          "output_type": "stream",
          "text": [
            "root\n",
            " |-- customer_id: integer (nullable = true)\n",
            " |-- review_id: string (nullable = true)\n",
            " |-- product_id: string (nullable = true)\n",
            " |-- product_parent: integer (nullable = true)\n",
            " |-- product_title: string (nullable = true)\n",
            " |-- star_rating: integer (nullable = true)\n",
            " |-- helpful_votes: integer (nullable = true)\n",
            " |-- total_votes: integer (nullable = true)\n",
            " |-- vine: string (nullable = true)\n",
            " |-- review_date: date (nullable = true)\n",
            "\n"
          ],
          "name": "stdout"
        }
      ]
    },
    {
      "cell_type": "markdown",
      "metadata": {
        "id": "WgVaSCuMYZUS"
      },
      "source": [
        "# **Create Dataframe for review_id_table**"
      ]
    },
    {
      "cell_type": "code",
      "metadata": {
        "colab": {
          "base_uri": "https://localhost:8080/"
        },
        "id": "n1tC-s_7ZlmO",
        "outputId": "b50b1ec9-2470-48da-d1a1-79cd8a1eed0e"
      },
      "source": [
        "review_id_df = percare_df.select([\"review_id\", \"customer_id\", \"product_id\", \"product_parent\", \"review_date\"])\n",
        "review_id_df.show(5)"
      ],
      "execution_count": 11,
      "outputs": [
        {
          "output_type": "stream",
          "text": [
            "+--------------+-----------+----------+--------------+-----------+\n",
            "|     review_id|customer_id|product_id|product_parent|review_date|\n",
            "+--------------+-----------+----------+--------------+-----------+\n",
            "|R23QUEX8A6ZGT5|   37501537|B00HES9CMS|     318730927| 2015-08-27|\n",
            "| R4BE55RS5NT8H|   33405988|B00HES9CMS|     318730927| 2015-08-26|\n",
            "|R26VH1I5MJ1FA3|   29991695|B00OSAUYTA|     792155282| 2015-08-24|\n",
            "|R2K8RBIYHER7WJ|   11229098|B001V9QMMO|     618360222| 2015-08-04|\n",
            "|R1ASFHMO6PUUCT|   10837312|B00H9L7VIW|     851045898| 2015-08-03|\n",
            "+--------------+-----------+----------+--------------+-----------+\n",
            "only showing top 5 rows\n",
            "\n"
          ],
          "name": "stdout"
        }
      ]
    },
    {
      "cell_type": "code",
      "metadata": {
        "id": "_nyF4dTDZ_FE",
        "colab": {
          "base_uri": "https://localhost:8080/"
        },
        "outputId": "7149b2b0-4243-4cab-913b-60e826281cfd"
      },
      "source": [
        "# Drop duplicated review existed in sql database\n",
        "review_id_df_pre = spark.read.jdbc(url=jdbc_url,table=\"review_id_table\", properties=config_1)\n",
        "review_id_df = review_id_df.join(review_id_df_pre, [\"review_id\"], \"leftanti\")\n",
        "review_id_df.show(5)"
      ],
      "execution_count": 12,
      "outputs": [
        {
          "output_type": "stream",
          "text": [
            "+--------------+-----------+----------+--------------+-----------+\n",
            "|     review_id|customer_id|product_id|product_parent|review_date|\n",
            "+--------------+-----------+----------+--------------+-----------+\n",
            "|R10SFLSDK0T4VU|   18108829|B0002L5A8Y|     276226768| 2007-10-24|\n",
            "|R12AALHK486N33|   43105079|B000EE5DTK|     315552854| 2009-08-18|\n",
            "|R12ECLCPII68JO|   19930639|B001BLCZZU|     293902826| 2008-10-19|\n",
            "|R136LVSFB94COK|   11750634|B004O23YE4|     284816422| 2015-04-07|\n",
            "|R136Y5BHL9LH5D|   35525657|B0000YVAW8|     879193365| 2005-06-10|\n",
            "+--------------+-----------+----------+--------------+-----------+\n",
            "only showing top 5 rows\n",
            "\n"
          ],
          "name": "stdout"
        }
      ]
    },
    {
      "cell_type": "code",
      "metadata": {
        "colab": {
          "base_uri": "https://localhost:8080/"
        },
        "id": "20cY-5JthIAS",
        "outputId": "617192fb-cd96-4c79-deb3-d91a7a001f52"
      },
      "source": [
        "print(review_id_df.count())\n",
        "review_id_df = review_id_df.dropDuplicates([\"review_id\"])\n",
        "print(review_id_df.count())"
      ],
      "execution_count": 13,
      "outputs": [
        {
          "output_type": "stream",
          "text": [
            "85978\n",
            "85978\n"
          ],
          "name": "stdout"
        }
      ]
    },
    {
      "cell_type": "markdown",
      "metadata": {
        "id": "hAt0GE0Nb1mQ"
      },
      "source": [
        "# **Create Dataframe for products_table**"
      ]
    },
    {
      "cell_type": "code",
      "metadata": {
        "colab": {
          "base_uri": "https://localhost:8080/"
        },
        "id": "-0FRKovuVzby",
        "outputId": "bff02f00-5f44-4847-aab7-eade0f2efdbd"
      },
      "source": [
        "products_df = percare_df.select([\"product_id\", \"product_title\"])\n",
        "products_df.show(5)"
      ],
      "execution_count": 14,
      "outputs": [
        {
          "output_type": "stream",
          "text": [
            "+----------+--------------------+\n",
            "|product_id|       product_title|\n",
            "+----------+--------------------+\n",
            "|B00HES9CMS|Viva Naturals #1 ...|\n",
            "|B00HES9CMS|Viva Naturals #1 ...|\n",
            "|B00OSAUYTA|Psoriasis & Eczem...|\n",
            "|B001V9QMMO|Fixodent Denture ...|\n",
            "|B00H9L7VIW|boostULTIMATE - 6...|\n",
            "+----------+--------------------+\n",
            "only showing top 5 rows\n",
            "\n"
          ],
          "name": "stdout"
        }
      ]
    },
    {
      "cell_type": "code",
      "metadata": {
        "id": "P9xtNfXRYCqD",
        "colab": {
          "base_uri": "https://localhost:8080/"
        },
        "outputId": "ee2839dd-5d18-4aab-d9e0-40bde5cf8935"
      },
      "source": [
        "# Drop duplicated review existed in sql database\n",
        "products_df_pre = spark.read.jdbc(url=jdbc_url,table=\"products\", properties=config_1)\n",
        "products_df = products_df.join(products_df_pre, [\"product_id\"], \"leftanti\")\n",
        "products_df.show(5)"
      ],
      "execution_count": 15,
      "outputs": [
        {
          "output_type": "stream",
          "text": [
            "+----------+--------------------+\n",
            "|product_id|       product_title|\n",
            "+----------+--------------------+\n",
            "|B0000532OW|Ezy Dose Ezy Crus...|\n",
            "|B0000532OW|Ezy Dose Ezy Crus...|\n",
            "|B0000532OW|Ezy Dose Ezy Crus...|\n",
            "|B0000532OW|Ezy Dose Ezy Crus...|\n",
            "|B0000532OW|Ezy Dose Ezy Crus...|\n",
            "+----------+--------------------+\n",
            "only showing top 5 rows\n",
            "\n"
          ],
          "name": "stdout"
        }
      ]
    },
    {
      "cell_type": "code",
      "metadata": {
        "colab": {
          "base_uri": "https://localhost:8080/"
        },
        "id": "1eVMuxBJiAgd",
        "outputId": "fec1b7c7-3092-4868-9bad-8ca933978a3f"
      },
      "source": [
        "print(products_df.count())\n",
        "products_df = products_df.dropDuplicates([\"product_id\"])\n",
        "print(products_df.count())"
      ],
      "execution_count": 16,
      "outputs": [
        {
          "output_type": "stream",
          "text": [
            "85978\n",
            "17562\n"
          ],
          "name": "stdout"
        }
      ]
    },
    {
      "cell_type": "markdown",
      "metadata": {
        "id": "lmc93W45b4xf"
      },
      "source": [
        "# **Create Dataframe for customers_table**"
      ]
    },
    {
      "cell_type": "code",
      "metadata": {
        "colab": {
          "base_uri": "https://localhost:8080/"
        },
        "id": "FyC67k4Db6jh",
        "outputId": "f14fc1ab-8986-41a3-c1b6-68663296c46c"
      },
      "source": [
        "customers_df_new = percare_df.select([\"customer_id\"])\n",
        "customers_df_new = customers_df_new.groupBy(\"customer_id\").count()\n",
        "customers_df_new.show(5)"
      ],
      "execution_count": 17,
      "outputs": [
        {
          "output_type": "stream",
          "text": [
            "+-----------+-----+\n",
            "|customer_id|count|\n",
            "+-----------+-----+\n",
            "|   11229098|    1|\n",
            "|    2416824|    1|\n",
            "|   11639065|    1|\n",
            "|   29741671|    1|\n",
            "|   16356076|    1|\n",
            "+-----------+-----+\n",
            "only showing top 5 rows\n",
            "\n"
          ],
          "name": "stdout"
        }
      ]
    },
    {
      "cell_type": "code",
      "metadata": {
        "id": "QscjHEba7MNn"
      },
      "source": [
        "# Creat a copy of sql database\n",
        "customers_df_pre = spark.read.jdbc(url=jdbc_url,table=\"customers\", properties=config_1)\n",
        "schema = customers_df_pre.schema\n",
        "customers_df_pre_pd = customers_df_pre.toPandas()\n",
        "_customers_df_pre = spark.createDataFrame(customers_df_pre_pd,schema=schema)\n",
        "del customers_df_pre_pd"
      ],
      "execution_count": 18,
      "outputs": []
    },
    {
      "cell_type": "code",
      "metadata": {
        "colab": {
          "base_uri": "https://localhost:8080/"
        },
        "id": "Wt5cJfW-dPng",
        "outputId": "514a22d9-53f0-401f-a471-14c2e5a2a2e8"
      },
      "source": [
        "# Get the total counts of each customer\n",
        "if _customers_df_pre.count():\n",
        "  customers_df=customers_df_new.join(_customers_df_pre,on=[\"customer_id\"],how=\"outer\")\n",
        "  customers_df=customers_df.fillna(0)\n",
        "  customers_df=customers_df.withColumn('total', sum(customers_df[col] for col in [\"count\", \"customer_count\"]))\n",
        "  customers_df = customers_df.drop(\"count\", \"customer_count\")\n",
        "  customers_df = customers_df.withColumnRenamed(\"total\", \"customer_count\")\n",
        "  customers_df.show(5)\n",
        "else:\n",
        "  customers_df = customers_df_new.withColumnRenamed(\"count\", \"customer_count\")\n",
        "  customers_df.show(5)"
      ],
      "execution_count": 19,
      "outputs": [
        {
          "output_type": "stream",
          "text": [
            "+-----------+--------------+\n",
            "|customer_id|customer_count|\n",
            "+-----------+--------------+\n",
            "|      28759|             1|\n",
            "|      33375|             1|\n",
            "|      45341|             1|\n",
            "|     176073|             1|\n",
            "|     235096|             1|\n",
            "+-----------+--------------+\n",
            "only showing top 5 rows\n",
            "\n"
          ],
          "name": "stdout"
        }
      ]
    },
    {
      "cell_type": "code",
      "metadata": {
        "colab": {
          "base_uri": "https://localhost:8080/"
        },
        "id": "3vJhPCOK7RHG",
        "outputId": "3bc6efb7-3e9f-4e57-fd5f-53b9859ebd08"
      },
      "source": [
        "print(customers_df.count())"
      ],
      "execution_count": 20,
      "outputs": [
        {
          "output_type": "stream",
          "text": [
            "182774\n"
          ],
          "name": "stdout"
        }
      ]
    },
    {
      "cell_type": "markdown",
      "metadata": {
        "id": "OJd09i6Tb7FF"
      },
      "source": [
        "# **Create Dataframe for vine_table**"
      ]
    },
    {
      "cell_type": "code",
      "metadata": {
        "colab": {
          "base_uri": "https://localhost:8080/"
        },
        "id": "NUGCvRwEb9RT",
        "outputId": "eb89d8fa-23cf-4821-a268-62a972beae24"
      },
      "source": [
        "vine_df = percare_df.select([\"review_id\",\"star_rating\", \"helpful_votes\", \"total_votes\", \"vine\"])\n",
        "vine_df.show(5)"
      ],
      "execution_count": 21,
      "outputs": [
        {
          "output_type": "stream",
          "text": [
            "+--------------+-----------+-------------+-----------+----+\n",
            "|     review_id|star_rating|helpful_votes|total_votes|vine|\n",
            "+--------------+-----------+-------------+-----------+----+\n",
            "|R23QUEX8A6ZGT5|          5|            0|          0|   N|\n",
            "| R4BE55RS5NT8H|          4|            0|          0|   N|\n",
            "|R26VH1I5MJ1FA3|          5|            0|          0|   N|\n",
            "|R2K8RBIYHER7WJ|          5|            0|          0|   N|\n",
            "|R1ASFHMO6PUUCT|          5|            1|          1|   N|\n",
            "+--------------+-----------+-------------+-----------+----+\n",
            "only showing top 5 rows\n",
            "\n"
          ],
          "name": "stdout"
        }
      ]
    },
    {
      "cell_type": "code",
      "metadata": {
        "id": "px7gPV1qacc8",
        "colab": {
          "base_uri": "https://localhost:8080/"
        },
        "outputId": "47cc5487-899a-4b99-d66e-0908e5145638"
      },
      "source": [
        "# Drop duplicated review existed in sql database\n",
        "vine_df_pre = spark.read.jdbc(url=jdbc_url,table=\"vine_table\", properties=config_1)\n",
        "vine_df = vine_df.join(vine_df_pre, [\"review_id\"], \"leftanti\")\n",
        "vine_df.show(5)"
      ],
      "execution_count": 22,
      "outputs": [
        {
          "output_type": "stream",
          "text": [
            "+--------------+-----------+-------------+-----------+----+\n",
            "|     review_id|star_rating|helpful_votes|total_votes|vine|\n",
            "+--------------+-----------+-------------+-----------+----+\n",
            "|R10SFLSDK0T4VU|          5|            5|          5|   N|\n",
            "|R12AALHK486N33|          5|            0|          0|   N|\n",
            "|R12ECLCPII68JO|          5|            0|         11|   N|\n",
            "|R136LVSFB94COK|          4|            0|          0|   N|\n",
            "|R136Y5BHL9LH5D|          1|           76|         81|   N|\n",
            "+--------------+-----------+-------------+-----------+----+\n",
            "only showing top 5 rows\n",
            "\n"
          ],
          "name": "stdout"
        }
      ]
    },
    {
      "cell_type": "code",
      "metadata": {
        "colab": {
          "base_uri": "https://localhost:8080/"
        },
        "id": "S4y5ShHdiJo6",
        "outputId": "5e54ab49-300a-49a1-a122-5a5c11fdfbd6"
      },
      "source": [
        "print(vine_df.count())\n",
        "vine_df = vine_df.dropDuplicates([\"review_id\"])\n",
        "print(vine_df.count())"
      ],
      "execution_count": 23,
      "outputs": [
        {
          "output_type": "stream",
          "text": [
            "85978\n",
            "85978\n"
          ],
          "name": "stdout"
        }
      ]
    },
    {
      "cell_type": "markdown",
      "metadata": {
        "id": "2kU7JXaseEa7"
      },
      "source": [
        "# **Write DataFrame to RDS**"
      ]
    },
    {
      "cell_type": "code",
      "metadata": {
        "id": "Rikb7Rwxe7bj"
      },
      "source": [
        "review_id_df.write.jdbc(url=jdbc_url, table=\"review_id_table\", mode=mode_1, properties=config_1)"
      ],
      "execution_count": 24,
      "outputs": []
    },
    {
      "cell_type": "code",
      "metadata": {
        "id": "C6i5jCubfCtJ"
      },
      "source": [
        "products_df.write.jdbc(url=jdbc_url, table=\"products\", mode=mode_1, properties=config_1)"
      ],
      "execution_count": 25,
      "outputs": []
    },
    {
      "cell_type": "code",
      "metadata": {
        "id": "MO94SbdAfZgR"
      },
      "source": [
        "customers_df.write.jdbc(url=jdbc_url, table=\"customers\", mode=mode_2, properties=config_2)"
      ],
      "execution_count": 26,
      "outputs": []
    },
    {
      "cell_type": "code",
      "metadata": {
        "id": "6t2VL00kfbBi"
      },
      "source": [
        "vine_df.write.jdbc(url=jdbc_url, table=\"vine_table\", mode=mode_1, properties=config_1)"
      ],
      "execution_count": 27,
      "outputs": []
    },
    {
      "cell_type": "code",
      "metadata": {
        "id": "aFyyrxScHtpg"
      },
      "source": [
        ""
      ],
      "execution_count": 27,
      "outputs": []
    }
  ]
}