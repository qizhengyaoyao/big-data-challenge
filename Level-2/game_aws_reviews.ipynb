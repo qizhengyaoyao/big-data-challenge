{
  "nbformat": 4,
  "nbformat_minor": 0,
  "metadata": {
    "colab": {
      "name": "game_aws_reviews",
      "provenance": [],
      "collapsed_sections": []
    },
    "kernelspec": {
      "name": "python3",
      "display_name": "Python 3"
    },
    "language_info": {
      "name": "python"
    }
  },
  "cells": [
    {
      "cell_type": "code",
      "metadata": {
        "colab": {
          "base_uri": "https://localhost:8080/"
        },
        "id": "QDMh1MbBUPJm",
        "outputId": "205c53c9-489c-4f52-d8da-af390eeaa04b"
      },
      "source": [
        "import os\n",
        "# Find the latest version of spark 3.0  from http://www-us.apache.org/dist/spark/ and enter as the spark version\n",
        "# For example:\n",
        "# spark_version = 'spark-3.0.2'\n",
        "spark_version = 'spark-3.1.1'\n",
        "os.environ['SPARK_VERSION']=spark_version\n",
        "\n",
        "# Install Spark and Java\n",
        "!apt-get update\n",
        "!apt-get install openjdk-11-jdk-headless -qq > /dev/null\n",
        "!wget -q http://www-us.apache.org/dist/spark/$SPARK_VERSION/$SPARK_VERSION-bin-hadoop2.7.tgz\n",
        "!tar xf $SPARK_VERSION-bin-hadoop2.7.tgz\n",
        "!pip install -q findspark\n",
        "\n",
        "# Set Environment Variables\n",
        "os.environ[\"JAVA_HOME\"] = \"/usr/lib/jvm/java-11-openjdk-amd64\"\n",
        "os.environ[\"SPARK_HOME\"] = f\"/content/{spark_version}-bin-hadoop2.7\"\n",
        "\n",
        "# Start a SparkSession\n",
        "import findspark\n",
        "findspark.init()"
      ],
      "execution_count": null,
      "outputs": [
        {
          "output_type": "stream",
          "text": [
            "\r0% [Working]\r            \rGet:1 http://security.ubuntu.com/ubuntu bionic-security InRelease [88.7 kB]\n",
            "\r0% [Connecting to archive.ubuntu.com (91.189.88.152)] [1 InRelease 14.2 kB/88.7\r                                                                               \rGet:2 https://cloud.r-project.org/bin/linux/ubuntu bionic-cran40/ InRelease [3,626 B]\n",
            "\r0% [Waiting for headers] [1 InRelease 54.7 kB/88.7 kB 62%] [2 InRelease 3,626 B\r0% [Waiting for headers] [1 InRelease 88.7 kB/88.7 kB 100%] [Waiting for header\r                                                                               \r0% [Waiting for headers] [Waiting for headers] [Waiting for headers]\r                                                                    \rIgn:3 https://developer.download.nvidia.com/compute/cuda/repos/ubuntu1804/x86_64  InRelease\n",
            "\r0% [Waiting for headers] [Waiting for headers] [Waiting for headers]\r0% [2 InRelease gpgv 3,626 B] [Waiting for headers] [Waiting for headers] [Wait\r                                                                               \rGet:4 http://ppa.launchpad.net/c2d4u.team/c2d4u4.0+/ubuntu bionic InRelease [15.9 kB]\n",
            "\r0% [2 InRelease gpgv 3,626 B] [Waiting for headers] [4 InRelease 2,572 B/15.9 k\r                                                                               \rIgn:5 https://developer.download.nvidia.com/compute/machine-learning/repos/ubuntu1804/x86_64  InRelease\n",
            "\r0% [2 InRelease gpgv 3,626 B] [Waiting for headers] [4 InRelease 5,468 B/15.9 k\r                                                                               \rHit:6 http://archive.ubuntu.com/ubuntu bionic InRelease\n",
            "\r0% [2 InRelease gpgv 3,626 B] [4 InRelease 8,364 B/15.9 kB 53%] [Waiting for he\r                                                                               \rGet:7 https://developer.download.nvidia.com/compute/cuda/repos/ubuntu1804/x86_64  Release [697 B]\n",
            "Hit:8 https://developer.download.nvidia.com/compute/machine-learning/repos/ubuntu1804/x86_64  Release\n",
            "Get:9 https://developer.download.nvidia.com/compute/cuda/repos/ubuntu1804/x86_64  Release.gpg [836 B]\n",
            "Get:10 http://archive.ubuntu.com/ubuntu bionic-updates InRelease [88.7 kB]\n",
            "Get:11 https://cloud.r-project.org/bin/linux/ubuntu bionic-cran40/ Packages [56.8 kB]\n",
            "Hit:12 http://ppa.launchpad.net/cran/libgit2/ubuntu bionic InRelease\n",
            "Get:13 http://security.ubuntu.com/ubuntu bionic-security/restricted amd64 Packages [423 kB]\n",
            "Hit:14 http://ppa.launchpad.net/deadsnakes/ppa/ubuntu bionic InRelease\n",
            "Get:15 http://archive.ubuntu.com/ubuntu bionic-backports InRelease [74.6 kB]\n",
            "Get:16 http://security.ubuntu.com/ubuntu bionic-security/main amd64 Packages [2,150 kB]\n",
            "Get:17 http://security.ubuntu.com/ubuntu bionic-security/universe amd64 Packages [1,411 kB]\n",
            "Get:18 http://ppa.launchpad.net/graphics-drivers/ppa/ubuntu bionic InRelease [21.3 kB]\n",
            "Ign:20 https://developer.download.nvidia.com/compute/cuda/repos/ubuntu1804/x86_64  Packages\n",
            "Get:20 https://developer.download.nvidia.com/compute/cuda/repos/ubuntu1804/x86_64  Packages [772 kB]\n",
            "Get:21 http://ppa.launchpad.net/c2d4u.team/c2d4u4.0+/ubuntu bionic/main Sources [1,767 kB]\n",
            "Get:22 http://archive.ubuntu.com/ubuntu bionic-updates/universe amd64 Packages [2,183 kB]\n",
            "Get:23 http://archive.ubuntu.com/ubuntu bionic-updates/main amd64 Packages [2,582 kB]\n",
            "Get:24 http://ppa.launchpad.net/c2d4u.team/c2d4u4.0+/ubuntu bionic/main amd64 Packages [904 kB]\n",
            "Get:25 http://archive.ubuntu.com/ubuntu bionic-updates/restricted amd64 Packages [452 kB]\n",
            "Get:26 http://ppa.launchpad.net/graphics-drivers/ppa/ubuntu bionic/main amd64 Packages [41.5 kB]\n",
            "Fetched 13.0 MB in 4s (3,678 kB/s)\n",
            "Reading package lists... Done\n"
          ],
          "name": "stdout"
        }
      ]
    },
    {
      "cell_type": "code",
      "metadata": {
        "colab": {
          "base_uri": "https://localhost:8080/"
        },
        "id": "H49tpWptUaK_",
        "outputId": "8507e171-4be2-4ad9-d273-4a6ff65e431c"
      },
      "source": [
        "!wget https://jdbc.postgresql.org/download/postgresql-42.2.9.jar"
      ],
      "execution_count": null,
      "outputs": [
        {
          "output_type": "stream",
          "text": [
            "--2021-05-16 11:39:36--  https://jdbc.postgresql.org/download/postgresql-42.2.9.jar\n",
            "Resolving jdbc.postgresql.org (jdbc.postgresql.org)... 72.32.157.228, 2001:4800:3e1:1::228\n",
            "Connecting to jdbc.postgresql.org (jdbc.postgresql.org)|72.32.157.228|:443... connected.\n",
            "HTTP request sent, awaiting response... 200 OK\n",
            "Length: 914037 (893K) [application/java-archive]\n",
            "Saving to: ‘postgresql-42.2.9.jar’\n",
            "\n",
            "postgresql-42.2.9.j 100%[===================>] 892.61K  --.-KB/s    in 0.1s    \n",
            "\n",
            "2021-05-16 11:39:36 (6.03 MB/s) - ‘postgresql-42.2.9.jar’ saved [914037/914037]\n",
            "\n"
          ],
          "name": "stdout"
        }
      ]
    },
    {
      "cell_type": "code",
      "metadata": {
        "id": "dAPDwXHZUyWZ"
      },
      "source": [
        "from pyspark.sql import SparkSession\n",
        "spark = SparkSession.builder.appName(\"CloudETL_AWS_game\").config(\"spark.driver.extraClassPath\",\"/content/postgresql-42.2.9.jar\").getOrCreate()"
      ],
      "execution_count": null,
      "outputs": []
    },
    {
      "cell_type": "code",
      "metadata": {
        "id": "09dRvBRvq8Au"
      },
      "source": [
        "# Configuration for RDS instance\n",
        "jdbc_url = \"jdbc:postgresql://<insert endpoint>:5432/big_data_db\"\n",
        "mode_1=\"append\"\n",
        "config_1 = {\"user\":\"postgres\",\n",
        "          \"password\": \"<insert password>\",\n",
        "          \"driver\":\"org.postgresql.Driver\"}\n",
        "mode_2=\"overwrite\"\n",
        "config_2 = {\"user\":\"postgres\",\n",
        "          \"password\": \"<insert password>\",\n",
        "          \"truncate\": \"true\",\n",
        "          \"driver\":\"org.postgresql.Driver\"}"
      ],
      "execution_count": null,
      "outputs": []
    },
    {
      "cell_type": "code",
      "metadata": {
        "colab": {
          "base_uri": "https://localhost:8080/"
        },
        "id": "i5K3pkyAU-k9",
        "outputId": "be2f5329-012b-43cf-a9dc-a9836830e17c"
      },
      "source": [
        "from pyspark import SparkFiles\n",
        "#load software reviews data from s3.amazonaws.com\n",
        "url = \"https://s3.amazonaws.com/amazon-reviews-pds/tsv/amazon_reviews_us_Digital_Video_Games_v1_00.tsv.gz\"\n",
        "spark.sparkContext.addFile(url)\n",
        "\n",
        "game_df = spark.read.option(\"header\",\"true\").csv(SparkFiles.get(\"amazon_reviews_us_Digital_Video_Games_v1_00.tsv.gz\"), inferSchema=True, dateFormat=\"yyyy-MM-dd\",sep=\"\\t\")\n",
        "game_df.show(10)"
      ],
      "execution_count": null,
      "outputs": [
        {
          "output_type": "stream",
          "text": [
            "+-----------+-----------+--------------+----------+--------------+--------------------+-------------------+-----------+-------------+-----------+----+-----------------+--------------------+--------------------+-----------+\n",
            "|marketplace|customer_id|     review_id|product_id|product_parent|       product_title|   product_category|star_rating|helpful_votes|total_votes|vine|verified_purchase|     review_headline|         review_body|review_date|\n",
            "+-----------+-----------+--------------+----------+--------------+--------------------+-------------------+-----------+-------------+-----------+----+-----------------+--------------------+--------------------+-----------+\n",
            "|         US|   21269168| RSH1OZ87OYK92|B013PURRZW|     603406193|Madden NFL 16 - X...|Digital_Video_Games|          2|            2|          3|   N|                N|A slight improvem...|I keep buying mad...| 2015-08-31|\n",
            "|         US|     133437|R1WFOQ3N9BO65I|B00F4CEHNK|     341969535| Xbox Live Gift Card|Digital_Video_Games|          5|            0|          0|   N|                Y|          Five Stars|             Awesome| 2015-08-31|\n",
            "|         US|   45765011| R3YOOS71KM5M9|B00DNHLFQA|     951665344|Command & Conquer...|Digital_Video_Games|          5|            0|          0|   N|                Y|Hail to the great...|If you are preppi...| 2015-08-31|\n",
            "|         US|     113118|R3R14UATT3OUFU|B004RMK5QG|     395682204|Playstation Plus ...|Digital_Video_Games|          5|            0|          0|   N|                Y|          Five Stars|             Perfect| 2015-08-31|\n",
            "|         US|   22151364| RV2W9SGDNQA2C|B00G9BNLQE|     640460561|Saints Row IV - E...|Digital_Video_Games|          5|            0|          0|   N|                Y|          Five Stars|            Awesome!| 2015-08-31|\n",
            "|         US|   22151364|R3CFKLIZ0I2KOB|B00IMIL498|     621922192|Double Dragon: Ne...|Digital_Video_Games|          5|            0|          0|   N|                Y|          Five Stars|            Awesome!| 2015-08-31|\n",
            "|         US|   38426028|R1LRYU1V0T3O38|B00S00IJH8|     215163395|              Sims 4|Digital_Video_Games|          4|            0|          0|   N|                Y|i like the new sk...|i like the new sk...| 2015-08-31|\n",
            "|         US|    6057518| R44QKV6FE5CJ2|B004RMK4BC|     384246568|Playstation Netwo...|Digital_Video_Games|          5|            0|          0|   N|                Y|          Five Stars|               Super| 2015-08-31|\n",
            "|         US|   20715661|R2TX1KLPXXXNYS|B00K59HKIQ|     384246568|Playstation Netwo...|Digital_Video_Games|          5|            0|          0|   N|                Y|         Easy & Fast|Excellent, fast a...| 2015-08-31|\n",
            "|         US|   26540306|R1JEEW4C6R89BA|B00K59HKIQ|     384246568|Playstation Netwo...|Digital_Video_Games|          5|            0|          0|   N|                Y|          Five Stars|                  Ok| 2015-08-31|\n",
            "+-----------+-----------+--------------+----------+--------------+--------------------+-------------------+-----------+-------------+-----------+----+-----------------+--------------------+--------------------+-----------+\n",
            "only showing top 10 rows\n",
            "\n"
          ],
          "name": "stdout"
        }
      ]
    },
    {
      "cell_type": "markdown",
      "metadata": {
        "id": "V7VFZBnbVRcW"
      },
      "source": [
        "# **Drop duplicates and incomplete rows**"
      ]
    },
    {
      "cell_type": "code",
      "metadata": {
        "id": "GEmuRh9TVNIV",
        "colab": {
          "base_uri": "https://localhost:8080/"
        },
        "outputId": "a01f5f6e-f48d-4d37-ae73-8f27f23adc3d"
      },
      "source": [
        "print(game_df.count())\n",
        "game_df = game_df.dropna()\n",
        "print(game_df.count())\n",
        "game_df = game_df.dropDuplicates()\n",
        "print(game_df.count())"
      ],
      "execution_count": null,
      "outputs": [
        {
          "output_type": "stream",
          "text": [
            "145431\n",
            "145425\n",
            "145425\n"
          ],
          "name": "stdout"
        }
      ]
    },
    {
      "cell_type": "markdown",
      "metadata": {
        "id": "vilEUB9rVuDF"
      },
      "source": [
        "# **Examine the schema**"
      ]
    },
    {
      "cell_type": "code",
      "metadata": {
        "id": "Bzg34LOKVrXB",
        "colab": {
          "base_uri": "https://localhost:8080/"
        },
        "outputId": "76013cb5-ed0a-4c72-92db-ba3308fc1b82"
      },
      "source": [
        "game_df.printSchema()"
      ],
      "execution_count": null,
      "outputs": [
        {
          "output_type": "stream",
          "text": [
            "root\n",
            " |-- marketplace: string (nullable = true)\n",
            " |-- customer_id: integer (nullable = true)\n",
            " |-- review_id: string (nullable = true)\n",
            " |-- product_id: string (nullable = true)\n",
            " |-- product_parent: integer (nullable = true)\n",
            " |-- product_title: string (nullable = true)\n",
            " |-- product_category: string (nullable = true)\n",
            " |-- star_rating: integer (nullable = true)\n",
            " |-- helpful_votes: integer (nullable = true)\n",
            " |-- total_votes: integer (nullable = true)\n",
            " |-- vine: string (nullable = true)\n",
            " |-- verified_purchase: string (nullable = true)\n",
            " |-- review_headline: string (nullable = true)\n",
            " |-- review_body: string (nullable = true)\n",
            " |-- review_date: string (nullable = true)\n",
            "\n"
          ],
          "name": "stdout"
        }
      ]
    },
    {
      "cell_type": "markdown",
      "metadata": {
        "id": "7Bj60VNUZwtK"
      },
      "source": [
        "# **Transfor Dataframe type**"
      ]
    },
    {
      "cell_type": "code",
      "metadata": {
        "id": "OSOSB65HZ7gh",
        "colab": {
          "base_uri": "https://localhost:8080/"
        },
        "outputId": "b9f5b5fc-7cf6-465e-a761-ced31d862734"
      },
      "source": [
        "import datetime\n",
        "game_df = game_df.withColumn(\"review_date\",game_df[\"review_date\"].cast(\"date\"))\n",
        "game_df.show(5)"
      ],
      "execution_count": null,
      "outputs": [
        {
          "output_type": "stream",
          "text": [
            "+-----------+-----------+--------------+----------+--------------+--------------------+-------------------+-----------+-------------+-----------+----+-----------------+--------------------+--------------------+-----------+\n",
            "|marketplace|customer_id|     review_id|product_id|product_parent|       product_title|   product_category|star_rating|helpful_votes|total_votes|vine|verified_purchase|     review_headline|         review_body|review_date|\n",
            "+-----------+-----------+--------------+----------+--------------+--------------------+-------------------+-----------+-------------+-----------+----+-----------------+--------------------+--------------------+-----------+\n",
            "|         US|   13860932|R3D22004JZNQNZ|B009VIKJUS|     892290956|     Xbox Music Pass|Digital_Video_Games|          5|            0|          0|   N|                Y|     Quick and Easy!|Save yourself a t...| 2015-08-31|\n",
            "|         US|     115394|R3JRQ3N85TXT9P|B00STYMPK2|     621402517|Dragon Ball Xenov...|Digital_Video_Games|          1|            4|          6|   N|                Y|Good DLC, but not...|DLC is great, fiv...| 2015-08-24|\n",
            "|         US|   11561103|R3HL6P7MERPZXD|B00K4S9C9I|     843235170|SPINTIRES [Online...|Digital_Video_Games|          5|            0|          0|   N|                N|          Five Stars|Make this game fo...| 2015-08-22|\n",
            "|         US|   17290108|R2KG7ZWHPD36O2|B004RMK4P8|     384246568|Playstation Netwo...|Digital_Video_Games|          1|            0|          0|   N|                Y|            One Star|               fraud| 2015-08-21|\n",
            "|         US|   17216137|R1ZNBPJ7NVOUZU|B004RMK4BC|     384246568|Playstation Netwo...|Digital_Video_Games|          5|            0|          0|   N|                Y|$20 , $50 it work...|I bought this alo...| 2015-08-21|\n",
            "+-----------+-----------+--------------+----------+--------------+--------------------+-------------------+-----------+-------------+-----------+----+-----------------+--------------------+--------------------+-----------+\n",
            "only showing top 5 rows\n",
            "\n"
          ],
          "name": "stdout"
        }
      ]
    },
    {
      "cell_type": "code",
      "metadata": {
        "id": "NYP9_VStbk64",
        "colab": {
          "base_uri": "https://localhost:8080/"
        },
        "outputId": "04b078e6-c05b-4868-cd3f-f5166b0f3fa6"
      },
      "source": [
        "game_df.printSchema()"
      ],
      "execution_count": null,
      "outputs": [
        {
          "output_type": "stream",
          "text": [
            "root\n",
            " |-- marketplace: string (nullable = true)\n",
            " |-- customer_id: integer (nullable = true)\n",
            " |-- review_id: string (nullable = true)\n",
            " |-- product_id: string (nullable = true)\n",
            " |-- product_parent: integer (nullable = true)\n",
            " |-- product_title: string (nullable = true)\n",
            " |-- product_category: string (nullable = true)\n",
            " |-- star_rating: integer (nullable = true)\n",
            " |-- helpful_votes: integer (nullable = true)\n",
            " |-- total_votes: integer (nullable = true)\n",
            " |-- vine: string (nullable = true)\n",
            " |-- verified_purchase: string (nullable = true)\n",
            " |-- review_headline: string (nullable = true)\n",
            " |-- review_body: string (nullable = true)\n",
            " |-- review_date: date (nullable = true)\n",
            "\n"
          ],
          "name": "stdout"
        }
      ]
    },
    {
      "cell_type": "markdown",
      "metadata": {
        "id": "WgVaSCuMYZUS"
      },
      "source": [
        "# **Create Dataframe for review_id_table**"
      ]
    },
    {
      "cell_type": "code",
      "metadata": {
        "id": "n1tC-s_7ZlmO",
        "colab": {
          "base_uri": "https://localhost:8080/"
        },
        "outputId": "c0561abf-bcc7-4fd4-c596-683146b0f17c"
      },
      "source": [
        "review_id_df = game_df.select([\"review_id\", \"customer_id\", \"product_id\", \"product_parent\", \"review_date\"])\n",
        "review_id_df.show(5)"
      ],
      "execution_count": null,
      "outputs": [
        {
          "output_type": "stream",
          "text": [
            "+--------------+-----------+----------+--------------+-----------+\n",
            "|     review_id|customer_id|product_id|product_parent|review_date|\n",
            "+--------------+-----------+----------+--------------+-----------+\n",
            "|R3D22004JZNQNZ|   13860932|B009VIKJUS|     892290956| 2015-08-31|\n",
            "|R3JRQ3N85TXT9P|     115394|B00STYMPK2|     621402517| 2015-08-24|\n",
            "|R3HL6P7MERPZXD|   11561103|B00K4S9C9I|     843235170| 2015-08-22|\n",
            "|R2KG7ZWHPD36O2|   17290108|B004RMK4P8|     384246568| 2015-08-21|\n",
            "|R1ZNBPJ7NVOUZU|   17216137|B004RMK4BC|     384246568| 2015-08-21|\n",
            "+--------------+-----------+----------+--------------+-----------+\n",
            "only showing top 5 rows\n",
            "\n"
          ],
          "name": "stdout"
        }
      ]
    },
    {
      "cell_type": "code",
      "metadata": {
        "id": "SQQCFuC1Y1e5",
        "colab": {
          "base_uri": "https://localhost:8080/"
        },
        "outputId": "7bb297f9-471c-4be6-8f9a-4c1cda8724f3"
      },
      "source": [
        "# Drop duplicated review existed in sql database\n",
        "review_id_df_pre = spark.read.jdbc(url=jdbc_url,table=\"review_id_table\", properties=config_1)\n",
        "review_id_df = review_id_df.join(review_id_df_pre, [\"review_id\"], \"leftanti\")\n",
        "review_id_df.show(5)"
      ],
      "execution_count": null,
      "outputs": [
        {
          "output_type": "stream",
          "text": [
            "+--------------+-----------+----------+--------------+-----------+\n",
            "|     review_id|customer_id|product_id|product_parent|review_date|\n",
            "+--------------+-----------+----------+--------------+-----------+\n",
            "|R106IQ5T0O0VWM|   48087383|B00CX6G1IE|     161335416| 2013-08-08|\n",
            "|R107U3DTMQDOC9|   45843629|B0085P7G5E|     242628037| 2015-05-06|\n",
            "| R10P6EEWZ3N7L|   50911990|B003H4QG7C|     821948296| 2010-05-15|\n",
            "|R10WS97KTREEBO|   14896044|B00HG0B8NA|     860280326| 2014-11-10|\n",
            "|R114BEBH58ZQH7|   51501861|B007VTVRFA|     402222185| 2013-03-07|\n",
            "+--------------+-----------+----------+--------------+-----------+\n",
            "only showing top 5 rows\n",
            "\n"
          ],
          "name": "stdout"
        }
      ]
    },
    {
      "cell_type": "code",
      "metadata": {
        "id": "20cY-5JthIAS",
        "colab": {
          "base_uri": "https://localhost:8080/"
        },
        "outputId": "23ce3e25-f666-4b0b-8ead-349844415214"
      },
      "source": [
        "print(review_id_df.count())\n",
        "review_id_df = review_id_df.dropDuplicates([\"review_id\"])\n",
        "print(review_id_df.count())"
      ],
      "execution_count": null,
      "outputs": [
        {
          "output_type": "stream",
          "text": [
            "145425\n",
            "145425\n"
          ],
          "name": "stdout"
        }
      ]
    },
    {
      "cell_type": "markdown",
      "metadata": {
        "id": "hAt0GE0Nb1mQ"
      },
      "source": [
        "# **Create Dataframe for products_table**"
      ]
    },
    {
      "cell_type": "code",
      "metadata": {
        "id": "-0FRKovuVzby",
        "colab": {
          "base_uri": "https://localhost:8080/"
        },
        "outputId": "fcdf4fb8-ecd9-4bd4-a65b-1269733be24c"
      },
      "source": [
        "products_df = game_df.select([\"product_id\", \"product_title\"])\n",
        "products_df.show(5)"
      ],
      "execution_count": null,
      "outputs": [
        {
          "output_type": "stream",
          "text": [
            "+----------+--------------------+\n",
            "|product_id|       product_title|\n",
            "+----------+--------------------+\n",
            "|B009VIKJUS|     Xbox Music Pass|\n",
            "|B00STYMPK2|Dragon Ball Xenov...|\n",
            "|B00K4S9C9I|SPINTIRES [Online...|\n",
            "|B004RMK4P8|Playstation Netwo...|\n",
            "|B004RMK4BC|Playstation Netwo...|\n",
            "+----------+--------------------+\n",
            "only showing top 5 rows\n",
            "\n"
          ],
          "name": "stdout"
        }
      ]
    },
    {
      "cell_type": "code",
      "metadata": {
        "colab": {
          "base_uri": "https://localhost:8080/"
        },
        "id": "iZcLrUSbpWTt",
        "outputId": "63117d44-3877-45ca-9f1b-0395ec762b06"
      },
      "source": [
        "# Drop duplicated review existed in sql database\n",
        "products_df_pre = spark.read.jdbc(url=jdbc_url,table=\"products\", properties=config_1)\n",
        "products_df = products_df.join(products_df_pre, [\"product_id\"], \"leftanti\")\n",
        "products_df.show(5)"
      ],
      "execution_count": null,
      "outputs": [
        {
          "output_type": "stream",
          "text": [
            "+----------+--------------------+\n",
            "|product_id|       product_title|\n",
            "+----------+--------------------+\n",
            "|B001KC02UA|Happy Hour! [Down...|\n",
            "|B002FGU06Q|Tradewinds Odysse...|\n",
            "|B002FGU06Q|Tradewinds Odysse...|\n",
            "|B002FGU06Q|Tradewinds Odysse...|\n",
            "|B002FGU06Q|Tradewinds Odysse...|\n",
            "+----------+--------------------+\n",
            "only showing top 5 rows\n",
            "\n"
          ],
          "name": "stdout"
        }
      ]
    },
    {
      "cell_type": "code",
      "metadata": {
        "colab": {
          "base_uri": "https://localhost:8080/"
        },
        "id": "0mkEtY5mphzl",
        "outputId": "aa739c99-7b47-4d0b-e262-36343837f222"
      },
      "source": [
        "print(products_df.count())\n",
        "products_df = products_df.dropDuplicates([\"product_id\"])\n",
        "print(products_df.count())"
      ],
      "execution_count": null,
      "outputs": [
        {
          "output_type": "stream",
          "text": [
            "145418\n",
            "7946\n"
          ],
          "name": "stdout"
        }
      ]
    },
    {
      "cell_type": "markdown",
      "metadata": {
        "id": "lmc93W45b4xf"
      },
      "source": [
        "# **Create Dataframe for customers_table**"
      ]
    },
    {
      "cell_type": "code",
      "metadata": {
        "id": "FyC67k4Db6jh",
        "colab": {
          "base_uri": "https://localhost:8080/"
        },
        "outputId": "82c69f9d-339d-403b-dc46-b6f2fe6b1c7f"
      },
      "source": [
        "customers_df_new = game_df.select([\"customer_id\"])\n",
        "customers_df_new = customers_df_new.groupBy(\"customer_id\").count()\n",
        "customers_df_new.show(5)"
      ],
      "execution_count": null,
      "outputs": [
        {
          "output_type": "stream",
          "text": [
            "+-----------+-----+\n",
            "|customer_id|count|\n",
            "+-----------+-----+\n",
            "|    1821467|    1|\n",
            "|   13037028|    1|\n",
            "|   48214430|    1|\n",
            "|    6568070|    1|\n",
            "|   37168977|    3|\n",
            "+-----------+-----+\n",
            "only showing top 5 rows\n",
            "\n"
          ],
          "name": "stdout"
        }
      ]
    },
    {
      "cell_type": "code",
      "metadata": {
        "id": "Xl4PkSQb23fQ"
      },
      "source": [
        "# Creat a copy of sql database\n",
        "customers_df_pre = spark.read.jdbc(url=jdbc_url,table=\"customers\", properties=config_1)\n",
        "schema = customers_df_pre.schema\n",
        "customers_df_pre_pd = customers_df_pre.toPandas()\n",
        "_customers_df_pre = spark.createDataFrame(customers_df_pre_pd,schema=schema)\n",
        "del customers_df_pre_pd"
      ],
      "execution_count": null,
      "outputs": []
    },
    {
      "cell_type": "code",
      "metadata": {
        "colab": {
          "base_uri": "https://localhost:8080/"
        },
        "id": "9yHaxeO23sgS",
        "outputId": "0f6ab70f-2f43-4e68-e55e-43b565d2523e"
      },
      "source": [
        "# Get the total counts of each customer\n",
        "if _customers_df_pre.count():\n",
        "  customers_df=customers_df_new.join(_customers_df_pre,on=[\"customer_id\"],how=\"outer\")\n",
        "  customers_df=customers_df.fillna(0)\n",
        "  customers_df=customers_df.withColumn('total', sum(customers_df[col] for col in [\"count\", \"customer_count\"]))\n",
        "  customers_df = customers_df.drop(\"count\", \"customer_count\")\n",
        "  customers_df = customers_df.withColumnRenamed(\"total\", \"customer_count\")\n",
        "  customers_df.show(5)\n",
        "else:\n",
        "  customers_df = customers_df_new.withColumnRenamed(\"count\", \"customer_count\")\n",
        "  customers_df.show(5)"
      ],
      "execution_count": null,
      "outputs": [
        {
          "output_type": "stream",
          "text": [
            "+-----------+--------------+\n",
            "|customer_id|customer_count|\n",
            "+-----------+--------------+\n",
            "|     178254|             1|\n",
            "|     295048|             4|\n",
            "|     477371|             1|\n",
            "|     527768|             1|\n",
            "|     587604|             1|\n",
            "+-----------+--------------+\n",
            "only showing top 5 rows\n",
            "\n"
          ],
          "name": "stdout"
        }
      ]
    },
    {
      "cell_type": "code",
      "metadata": {
        "colab": {
          "base_uri": "https://localhost:8080/"
        },
        "id": "xnDUNRrK335J",
        "outputId": "617d4d57-4477-4538-850d-3b4432729b7c"
      },
      "source": [
        "print(customers_df.count())"
      ],
      "execution_count": null,
      "outputs": [
        {
          "output_type": "stream",
          "text": [
            "205731\n"
          ],
          "name": "stdout"
        }
      ]
    },
    {
      "cell_type": "markdown",
      "metadata": {
        "id": "OJd09i6Tb7FF"
      },
      "source": [
        "# **Create Dataframe for vine_table**"
      ]
    },
    {
      "cell_type": "code",
      "metadata": {
        "id": "NUGCvRwEb9RT",
        "colab": {
          "base_uri": "https://localhost:8080/"
        },
        "outputId": "d0bf7598-ba80-46af-c795-f99a71d7d30a"
      },
      "source": [
        "vine_df = game_df.select([\"review_id\",\"star_rating\", \"helpful_votes\", \"total_votes\", \"vine\"])\n",
        "vine_df.show(5)"
      ],
      "execution_count": null,
      "outputs": [
        {
          "output_type": "stream",
          "text": [
            "+--------------+-----------+-------------+-----------+----+\n",
            "|     review_id|star_rating|helpful_votes|total_votes|vine|\n",
            "+--------------+-----------+-------------+-----------+----+\n",
            "|R3D22004JZNQNZ|          5|            0|          0|   N|\n",
            "|R3JRQ3N85TXT9P|          1|            4|          6|   N|\n",
            "|R3HL6P7MERPZXD|          5|            0|          0|   N|\n",
            "|R2KG7ZWHPD36O2|          1|            0|          0|   N|\n",
            "|R1ZNBPJ7NVOUZU|          5|            0|          0|   N|\n",
            "+--------------+-----------+-------------+-----------+----+\n",
            "only showing top 5 rows\n",
            "\n"
          ],
          "name": "stdout"
        }
      ]
    },
    {
      "cell_type": "code",
      "metadata": {
        "id": "5aoPwZ-xY9qc",
        "colab": {
          "base_uri": "https://localhost:8080/"
        },
        "outputId": "81c2ca6d-d3e6-4433-daa6-b5f1f33f1437"
      },
      "source": [
        "# Drop duplicated review existed in sql database\n",
        "vine_df_pre = spark.read.jdbc(url=jdbc_url,table=\"vine_table\", properties=config_1)\n",
        "vine_df = vine_df.join(vine_df_pre, [\"review_id\"], \"leftanti\")\n",
        "vine_df.show(5)"
      ],
      "execution_count": null,
      "outputs": [
        {
          "output_type": "stream",
          "text": [
            "+--------------+-----------+-------------+-----------+----+\n",
            "|     review_id|star_rating|helpful_votes|total_votes|vine|\n",
            "+--------------+-----------+-------------+-----------+----+\n",
            "|R106IQ5T0O0VWM|          5|            0|          0|   N|\n",
            "|R107U3DTMQDOC9|          3|            0|          1|   N|\n",
            "| R10P6EEWZ3N7L|          4|            5|          5|   N|\n",
            "|R10WS97KTREEBO|          4|            0|          0|   N|\n",
            "|R114BEBH58ZQH7|          1|            7|          7|   N|\n",
            "+--------------+-----------+-------------+-----------+----+\n",
            "only showing top 5 rows\n",
            "\n"
          ],
          "name": "stdout"
        }
      ]
    },
    {
      "cell_type": "code",
      "metadata": {
        "id": "S4y5ShHdiJo6",
        "colab": {
          "base_uri": "https://localhost:8080/"
        },
        "outputId": "0e1b9b69-9859-4cad-939b-f9a9d6ad1a8b"
      },
      "source": [
        "print(vine_df.count())\n",
        "vine_df = vine_df.dropDuplicates([\"review_id\"])\n",
        "print(vine_df.count())"
      ],
      "execution_count": null,
      "outputs": [
        {
          "output_type": "stream",
          "text": [
            "145425\n",
            "145425\n"
          ],
          "name": "stdout"
        }
      ]
    },
    {
      "cell_type": "markdown",
      "metadata": {
        "id": "2kU7JXaseEa7"
      },
      "source": [
        "# **Write DataFrame to RDS**"
      ]
    },
    {
      "cell_type": "code",
      "metadata": {
        "id": "Rikb7Rwxe7bj"
      },
      "source": [
        "review_id_df.write.jdbc(url=jdbc_url, table=\"review_id_table\", mode=mode_1, properties=config_1)"
      ],
      "execution_count": null,
      "outputs": []
    },
    {
      "cell_type": "code",
      "metadata": {
        "id": "C6i5jCubfCtJ"
      },
      "source": [
        "products_df.write.jdbc(url=jdbc_url, table=\"products\", mode=mode_1, properties=config_1)"
      ],
      "execution_count": null,
      "outputs": []
    },
    {
      "cell_type": "code",
      "metadata": {
        "id": "MO94SbdAfZgR"
      },
      "source": [
        "customers_df.write.jdbc(url=jdbc_url, table=\"customers\", mode=mode_2, properties=config_2)"
      ],
      "execution_count": null,
      "outputs": []
    },
    {
      "cell_type": "code",
      "metadata": {
        "id": "6t2VL00kfbBi"
      },
      "source": [
        "vine_df.write.jdbc(url=jdbc_url, table=\"vine_table\", mode=mode_1, properties=config_1)"
      ],
      "execution_count": null,
      "outputs": []
    },
    {
      "cell_type": "code",
      "metadata": {
        "id": "FwReCjdefctH"
      },
      "source": [
        ""
      ],
      "execution_count": null,
      "outputs": []
    }
  ]
}