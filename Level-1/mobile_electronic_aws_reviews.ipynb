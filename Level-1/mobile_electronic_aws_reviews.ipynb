{
  "nbformat": 4,
  "nbformat_minor": 0,
  "metadata": {
    "colab": {
      "name": "mobile_electronic_aws_reviews",
      "provenance": [],
      "collapsed_sections": []
    },
    "kernelspec": {
      "name": "python3",
      "display_name": "Python 3"
    },
    "language_info": {
      "name": "python"
    }
  },
  "cells": [
    {
      "cell_type": "code",
      "metadata": {
        "colab": {
          "base_uri": "https://localhost:8080/"
        },
        "id": "QDMh1MbBUPJm",
        "outputId": "7f875bdd-5125-47d7-cc77-e6cea1fccf2b"
      },
      "source": [
        "import os\n",
        "# Find the latest version of spark 3.0  from http://www-us.apache.org/dist/spark/ and enter as the spark version\n",
        "# For example:\n",
        "# spark_version = 'spark-3.0.2'\n",
        "spark_version = 'spark-3.1.1'\n",
        "os.environ['SPARK_VERSION']=spark_version\n",
        "\n",
        "# Install Spark and Java\n",
        "!apt-get update\n",
        "!apt-get install openjdk-11-jdk-headless -qq > /dev/null\n",
        "!wget -q http://www-us.apache.org/dist/spark/$SPARK_VERSION/$SPARK_VERSION-bin-hadoop2.7.tgz\n",
        "!tar xf $SPARK_VERSION-bin-hadoop2.7.tgz\n",
        "!pip install -q findspark\n",
        "\n",
        "# Set Environment Variables\n",
        "os.environ[\"JAVA_HOME\"] = \"/usr/lib/jvm/java-11-openjdk-amd64\"\n",
        "os.environ[\"SPARK_HOME\"] = f\"/content/{spark_version}-bin-hadoop2.7\"\n",
        "\n",
        "# Start a SparkSession\n",
        "import findspark\n",
        "findspark.init()"
      ],
      "execution_count": 1,
      "outputs": [
        {
          "output_type": "stream",
          "text": [
            "\r0% [Working]\r            \rIgn:1 https://developer.download.nvidia.com/compute/cuda/repos/ubuntu1804/x86_64  InRelease\n",
            "\r0% [Connecting to archive.ubuntu.com (91.189.88.152)] [Waiting for headers] [Co\r                                                                               \rIgn:2 https://developer.download.nvidia.com/compute/machine-learning/repos/ubuntu1804/x86_64  InRelease\n",
            "\r0% [Connecting to archive.ubuntu.com (91.189.88.152)] [Waiting for headers] [Co\r                                                                               \rGet:3 https://developer.download.nvidia.com/compute/cuda/repos/ubuntu1804/x86_64  Release [697 B]\n",
            "Get:4 http://security.ubuntu.com/ubuntu bionic-security InRelease [88.7 kB]\n",
            "Hit:5 https://developer.download.nvidia.com/compute/machine-learning/repos/ubuntu1804/x86_64  Release\n",
            "Get:6 https://developer.download.nvidia.com/compute/cuda/repos/ubuntu1804/x86_64  Release.gpg [836 B]\n",
            "Get:7 https://cloud.r-project.org/bin/linux/ubuntu bionic-cran40/ InRelease [3,626 B]\n",
            "Hit:8 http://archive.ubuntu.com/ubuntu bionic InRelease\n",
            "Get:9 http://ppa.launchpad.net/c2d4u.team/c2d4u4.0+/ubuntu bionic InRelease [15.9 kB]\n",
            "Get:10 http://archive.ubuntu.com/ubuntu bionic-updates InRelease [88.7 kB]\n",
            "Ign:12 https://developer.download.nvidia.com/compute/cuda/repos/ubuntu1804/x86_64  Packages\n",
            "Hit:13 http://ppa.launchpad.net/cran/libgit2/ubuntu bionic InRelease\n",
            "Get:12 https://developer.download.nvidia.com/compute/cuda/repos/ubuntu1804/x86_64  Packages [772 kB]\n",
            "Get:14 https://cloud.r-project.org/bin/linux/ubuntu bionic-cran40/ Packages [56.8 kB]\n",
            "Get:15 http://archive.ubuntu.com/ubuntu bionic-backports InRelease [74.6 kB]\n",
            "Hit:16 http://ppa.launchpad.net/deadsnakes/ppa/ubuntu bionic InRelease\n",
            "Get:17 http://ppa.launchpad.net/graphics-drivers/ppa/ubuntu bionic InRelease [21.3 kB]\n",
            "Get:18 http://security.ubuntu.com/ubuntu bionic-security/universe amd64 Packages [1,411 kB]\n",
            "Get:19 http://security.ubuntu.com/ubuntu bionic-security/restricted amd64 Packages [423 kB]\n",
            "Get:20 http://security.ubuntu.com/ubuntu bionic-security/main amd64 Packages [2,150 kB]\n",
            "Get:21 http://ppa.launchpad.net/c2d4u.team/c2d4u4.0+/ubuntu bionic/main Sources [1,767 kB]\n",
            "Get:22 http://archive.ubuntu.com/ubuntu bionic-updates/restricted amd64 Packages [452 kB]\n",
            "Get:23 http://archive.ubuntu.com/ubuntu bionic-updates/universe amd64 Packages [2,183 kB]\n",
            "Get:24 http://ppa.launchpad.net/c2d4u.team/c2d4u4.0+/ubuntu bionic/main amd64 Packages [904 kB]\n",
            "Get:25 http://archive.ubuntu.com/ubuntu bionic-updates/main amd64 Packages [2,582 kB]\n",
            "Get:26 http://ppa.launchpad.net/graphics-drivers/ppa/ubuntu bionic/main amd64 Packages [41.5 kB]\n",
            "Fetched 13.0 MB in 4s (2,996 kB/s)\n",
            "Reading package lists... Done\n"
          ],
          "name": "stdout"
        }
      ]
    },
    {
      "cell_type": "code",
      "metadata": {
        "colab": {
          "base_uri": "https://localhost:8080/"
        },
        "id": "H49tpWptUaK_",
        "outputId": "150d35ed-d081-434b-a74e-b77f6313183a"
      },
      "source": [
        "!wget https://jdbc.postgresql.org/download/postgresql-42.2.9.jar"
      ],
      "execution_count": 2,
      "outputs": [
        {
          "output_type": "stream",
          "text": [
            "--2021-05-16 23:16:42--  https://jdbc.postgresql.org/download/postgresql-42.2.9.jar\n",
            "Resolving jdbc.postgresql.org (jdbc.postgresql.org)... 72.32.157.228, 2001:4800:3e1:1::228\n",
            "Connecting to jdbc.postgresql.org (jdbc.postgresql.org)|72.32.157.228|:443... connected.\n",
            "HTTP request sent, awaiting response... 200 OK\n",
            "Length: 914037 (893K) [application/java-archive]\n",
            "Saving to: ‘postgresql-42.2.9.jar’\n",
            "\n",
            "postgresql-42.2.9.j 100%[===================>] 892.61K  4.38MB/s    in 0.2s    \n",
            "\n",
            "2021-05-16 23:16:43 (4.38 MB/s) - ‘postgresql-42.2.9.jar’ saved [914037/914037]\n",
            "\n"
          ],
          "name": "stdout"
        }
      ]
    },
    {
      "cell_type": "code",
      "metadata": {
        "id": "dAPDwXHZUyWZ"
      },
      "source": [
        "from pyspark.sql import SparkSession\n",
        "spark = SparkSession.builder.appName(\"CloudETL_AWS_mobile_electronic\").config(\"spark.driver.extraClassPath\",\"/content/postgresql-42.2.9.jar\").getOrCreate()"
      ],
      "execution_count": 3,
      "outputs": []
    },
    {
      "cell_type": "code",
      "metadata": {
        "colab": {
          "base_uri": "https://localhost:8080/"
        },
        "id": "Eoni8scfc5-f",
        "outputId": "5937222e-ab8f-444c-9087-33f939b414cc"
      },
      "source": [
        "# Setup config file location\n",
        "from google.colab import drive\n",
        "drive.mount('/content/drive')\n",
        "import sys\n",
        "sys.path.append('/content/drive/My Drive')"
      ],
      "execution_count": 4,
      "outputs": [
        {
          "output_type": "stream",
          "text": [
            "Drive already mounted at /content/drive; to attempt to forcibly remount, call drive.mount(\"/content/drive\", force_remount=True).\n"
          ],
          "name": "stdout"
        }
      ]
    },
    {
      "cell_type": "code",
      "metadata": {
        "id": "09dRvBRvq8Au"
      },
      "source": [
        "from config import aws_rds_endpoint\n",
        "from config import aws_rds_password\n",
        "# Configuration for RDS instance\n",
        "jdbc_url = f\"jdbc:postgresql://{aws_rds_endpoint}:5432/big_data_db\"\n",
        "mode_1=\"append\"\n",
        "config_1 = {\"user\":\"postgres\",\n",
        "          \"password\": aws_rds_password,\n",
        "          \"driver\":\"org.postgresql.Driver\"}\n",
        "mode_2=\"overwrite\"\n",
        "config_2 = {\"user\":\"postgres\",\n",
        "          \"password\": aws_rds_password,\n",
        "          \"truncate\": \"true\",\n",
        "          \"driver\":\"org.postgresql.Driver\"}"
      ],
      "execution_count": 5,
      "outputs": []
    },
    {
      "cell_type": "code",
      "metadata": {
        "colab": {
          "base_uri": "https://localhost:8080/"
        },
        "id": "i5K3pkyAU-k9",
        "outputId": "885dcd75-61e0-4732-f514-c8b5170c5914"
      },
      "source": [
        "from pyspark import SparkFiles\n",
        "#load software reviews data from s3.amazonaws.com\n",
        "url = \"https://s3.amazonaws.com/amazon-reviews-pds/tsv/amazon_reviews_us_Mobile_Electronics_v1_00.tsv.gz\"\n",
        "spark.sparkContext.addFile(url)\n",
        "\n",
        "mobelec_df = spark.read.option(\"header\",\"true\").csv(SparkFiles.get(\"amazon_reviews_us_Mobile_Electronics_v1_00.tsv.gz\"), inferSchema=True, dateFormat=\"yyyy-MM-dd\",sep=\"\\t\")\n",
        "mobelec_df.show(10)"
      ],
      "execution_count": 7,
      "outputs": [
        {
          "output_type": "stream",
          "text": [
            "+-----------+-----------+--------------+----------+--------------+--------------------+------------------+-----------+-------------+-----------+----+-----------------+--------------------+--------------------+-----------+\n",
            "|marketplace|customer_id|     review_id|product_id|product_parent|       product_title|  product_category|star_rating|helpful_votes|total_votes|vine|verified_purchase|     review_headline|         review_body|review_date|\n",
            "+-----------+-----------+--------------+----------+--------------+--------------------+------------------+-----------+-------------+-----------+----+-----------------+--------------------+--------------------+-----------+\n",
            "|         US|   20422322| R8MEA6IGAHO0B|B00MC4CED8|     217304173|BlackVue DR600GW-PMP|Mobile_Electronics|          5|            0|          0|   N|                Y|         Very Happy!|As advertised. Ev...| 2015-08-31|\n",
            "|         US|   40835037|R31LOQ8JGLPRLK|B00OQMFG1Q|     137313254|GENSSI GSM / GPS ...|Mobile_Electronics|          5|            0|          1|   N|                Y|           five star|          it's great| 2015-08-31|\n",
            "|         US|   51469641|R2Y0MM9YE6OP3P|B00QERR5CY|      82850235|iXCC Multi pack L...|Mobile_Electronics|          5|            0|          0|   N|                Y|        great cables|These work great ...| 2015-08-31|\n",
            "|         US|    4332923| RRB9C05HDOD4O|B00QUFTPV4|     221169481|abcGoodefg® FBI C...|Mobile_Electronics|          4|            0|          0|   N|                Y|Work very well bu...|Work very well bu...| 2015-08-31|\n",
            "|         US|   44855305|R26I2RI1GFV8QG|B0067XVNTG|     563475445|Generic Car Dashb...|Mobile_Electronics|          2|            0|          0|   N|                Y|Cameras has batte...|Be careful with t...| 2015-08-31|\n",
            "|         US|    7846966| RY8DDL22YG4R5|B00KA6CCVY|     713636156|Aweek® Air Acoust...|Mobile_Electronics|          3|            0|          1|   N|                Y|It appears to be ...|It appears to be ...| 2015-08-31|\n",
            "|         US|   21299354|R2AT2426ZHFUHH|B00MJCDPM2|     754171872|Sentey LS-4460 B-...|Mobile_Electronics|          3|            0|          1|   N|                Y|Didn't love the f...|First one arrived...| 2015-08-31|\n",
            "|         US|   28902968|R3RRXU2R23NMQ9|B00ET5AWBY|     508373185|iPad Car Headrest...|Mobile_Electronics|          5|            0|          0|   N|                Y|          Five Stars|Worked great for ...| 2015-08-31|\n",
            "|         US|    2074438|R250PR8VJUZ62F|B00Z9K379C|     759387370|ANWING Waterproof...|Mobile_Electronics|          4|            0|          2|   N|                Y|          Four Stars|this is a very go...| 2015-08-31|\n",
            "|         US|   48701722| RBEMQ29WJBHYG|B00YO3UYXW|     913911909|Jensen MCR-100 Ca...|Mobile_Electronics|          5|          164|        168|   N|                Y|  I LOVE my recorder|I LOVE my recorde...| 2015-08-31|\n",
            "+-----------+-----------+--------------+----------+--------------+--------------------+------------------+-----------+-------------+-----------+----+-----------------+--------------------+--------------------+-----------+\n",
            "only showing top 10 rows\n",
            "\n"
          ],
          "name": "stdout"
        }
      ]
    },
    {
      "cell_type": "markdown",
      "metadata": {
        "id": "V7VFZBnbVRcW"
      },
      "source": [
        "# **Drop duplicates and incomplete rows**"
      ]
    },
    {
      "cell_type": "code",
      "metadata": {
        "id": "GEmuRh9TVNIV",
        "colab": {
          "base_uri": "https://localhost:8080/"
        },
        "outputId": "c3e194cb-4513-4609-d70b-2c202c521782"
      },
      "source": [
        "mobelec_df = mobelec_df.drop(\"marketplace\",\"product_category\",\"verified_purchase\",\"review_headline\",\"review_body\")\n",
        "print(mobelec_df.count())\n",
        "mobelec_df = mobelec_df.dropna()\n",
        "print(mobelec_df.count())\n",
        "mobelec_df = mobelec_df.dropDuplicates()\n",
        "print(mobelec_df.count())"
      ],
      "execution_count": 8,
      "outputs": [
        {
          "output_type": "stream",
          "text": [
            "104975\n",
            "104973\n",
            "104973\n"
          ],
          "name": "stdout"
        }
      ]
    },
    {
      "cell_type": "markdown",
      "metadata": {
        "id": "vilEUB9rVuDF"
      },
      "source": [
        "# **Examine the schema**"
      ]
    },
    {
      "cell_type": "code",
      "metadata": {
        "id": "Bzg34LOKVrXB",
        "colab": {
          "base_uri": "https://localhost:8080/"
        },
        "outputId": "525babb1-b117-4703-fa32-2ebb49e6cc89"
      },
      "source": [
        "mobelec_df.printSchema()"
      ],
      "execution_count": 9,
      "outputs": [
        {
          "output_type": "stream",
          "text": [
            "root\n",
            " |-- customer_id: integer (nullable = true)\n",
            " |-- review_id: string (nullable = true)\n",
            " |-- product_id: string (nullable = true)\n",
            " |-- product_parent: integer (nullable = true)\n",
            " |-- product_title: string (nullable = true)\n",
            " |-- star_rating: integer (nullable = true)\n",
            " |-- helpful_votes: integer (nullable = true)\n",
            " |-- total_votes: integer (nullable = true)\n",
            " |-- vine: string (nullable = true)\n",
            " |-- review_date: string (nullable = true)\n",
            "\n"
          ],
          "name": "stdout"
        }
      ]
    },
    {
      "cell_type": "markdown",
      "metadata": {
        "id": "7Bj60VNUZwtK"
      },
      "source": [
        "# **Transfor Dataframe type**"
      ]
    },
    {
      "cell_type": "code",
      "metadata": {
        "id": "OSOSB65HZ7gh",
        "colab": {
          "base_uri": "https://localhost:8080/"
        },
        "outputId": "bd48ea3b-6fd2-44b0-db44-bad3f6fa9b77"
      },
      "source": [
        "import datetime\n",
        "mobelec_df = mobelec_df.withColumn(\"review_date\",mobelec_df[\"review_date\"].cast(\"date\"))\n",
        "mobelec_df.show(5)"
      ],
      "execution_count": 10,
      "outputs": [
        {
          "output_type": "stream",
          "text": [
            "+-----------+--------------+----------+--------------+--------------------+-----------+-------------+-----------+----+-----------+\n",
            "|customer_id|     review_id|product_id|product_parent|       product_title|star_rating|helpful_votes|total_votes|vine|review_date|\n",
            "+-----------+--------------+----------+--------------+--------------------+-----------+-------------+-----------+----+-----------+\n",
            "|   11491447|R2OCDOIHJVF0EJ|B00MJCDPM2|     754171872|Sentey LS-4460 B-...|          5|            0|          0|   N| 2015-08-25|\n",
            "|    2737267|R18R2FSKAOINPA|B00HTXPBV4|     854337141|Lychee® Fish Find...|          5|            1|          1|   N| 2015-08-25|\n",
            "|   30554689|R3H5NR66VPQYF4|B00RCO24O2|     915831598|Aweek® 5M Coaxial...|          5|            0|          0|   N| 2015-08-24|\n",
            "|   44131190|R10G3P0YNL7O7G|B00AOH0MKM|     942607823|Pyle PylePro PDWR...|          5|            1|          1|   N| 2015-08-23|\n",
            "|     658913| R4SFDXU19AFFA|B00IWVE0Q4|     916527392|LIMTECH GENUINE 7...|          1|            0|          0|   N| 2015-08-17|\n",
            "+-----------+--------------+----------+--------------+--------------------+-----------+-------------+-----------+----+-----------+\n",
            "only showing top 5 rows\n",
            "\n"
          ],
          "name": "stdout"
        }
      ]
    },
    {
      "cell_type": "code",
      "metadata": {
        "id": "NYP9_VStbk64",
        "colab": {
          "base_uri": "https://localhost:8080/"
        },
        "outputId": "9c9b465e-aef5-44f3-cb54-c16e9cb06ed9"
      },
      "source": [
        "mobelec_df.printSchema()"
      ],
      "execution_count": 11,
      "outputs": [
        {
          "output_type": "stream",
          "text": [
            "root\n",
            " |-- customer_id: integer (nullable = true)\n",
            " |-- review_id: string (nullable = true)\n",
            " |-- product_id: string (nullable = true)\n",
            " |-- product_parent: integer (nullable = true)\n",
            " |-- product_title: string (nullable = true)\n",
            " |-- star_rating: integer (nullable = true)\n",
            " |-- helpful_votes: integer (nullable = true)\n",
            " |-- total_votes: integer (nullable = true)\n",
            " |-- vine: string (nullable = true)\n",
            " |-- review_date: date (nullable = true)\n",
            "\n"
          ],
          "name": "stdout"
        }
      ]
    },
    {
      "cell_type": "markdown",
      "metadata": {
        "id": "WgVaSCuMYZUS"
      },
      "source": [
        "# **Create Dataframe for review_id_table**"
      ]
    },
    {
      "cell_type": "code",
      "metadata": {
        "id": "n1tC-s_7ZlmO",
        "colab": {
          "base_uri": "https://localhost:8080/"
        },
        "outputId": "bedecd73-3afd-434f-ddc4-d75b3889881c"
      },
      "source": [
        "review_id_df = mobelec_df.select([\"review_id\", \"customer_id\", \"product_id\", \"product_parent\", \"review_date\"])\n",
        "review_id_df.show(5)"
      ],
      "execution_count": 12,
      "outputs": [
        {
          "output_type": "stream",
          "text": [
            "+--------------+-----------+----------+--------------+-----------+\n",
            "|     review_id|customer_id|product_id|product_parent|review_date|\n",
            "+--------------+-----------+----------+--------------+-----------+\n",
            "|R2OCDOIHJVF0EJ|   11491447|B00MJCDPM2|     754171872| 2015-08-25|\n",
            "|R18R2FSKAOINPA|    2737267|B00HTXPBV4|     854337141| 2015-08-25|\n",
            "|R3H5NR66VPQYF4|   30554689|B00RCO24O2|     915831598| 2015-08-24|\n",
            "|R10G3P0YNL7O7G|   44131190|B00AOH0MKM|     942607823| 2015-08-23|\n",
            "| R4SFDXU19AFFA|     658913|B00IWVE0Q4|     916527392| 2015-08-17|\n",
            "+--------------+-----------+----------+--------------+-----------+\n",
            "only showing top 5 rows\n",
            "\n"
          ],
          "name": "stdout"
        }
      ]
    },
    {
      "cell_type": "code",
      "metadata": {
        "id": "SQQCFuC1Y1e5",
        "colab": {
          "base_uri": "https://localhost:8080/"
        },
        "outputId": "f77bf95f-3a1d-49a2-82d9-68cdf6a03aa4"
      },
      "source": [
        "# Drop duplicated review existed in sql database\n",
        "review_id_df_pre = spark.read.jdbc(url=jdbc_url,table=\"review_id_table\", properties=config_1)\n",
        "review_id_df = review_id_df.join(review_id_df_pre, [\"review_id\"], \"leftanti\")\n",
        "review_id_df.show(5)"
      ],
      "execution_count": 13,
      "outputs": [
        {
          "output_type": "stream",
          "text": [
            "+--------------+-----------+----------+--------------+-----------+\n",
            "|     review_id|customer_id|product_id|product_parent|review_date|\n",
            "+--------------+-----------+----------+--------------+-----------+\n",
            "|R10CICGOU7CUI8|   23140361|B000G2JGU2|      55661033| 2007-09-19|\n",
            "|R10K7G8PMZHWY5|   20460922|B003TZ8YRE|     597744426| 2011-05-02|\n",
            "|R10TLNH0GLYEID|   12140794|B00M8X28FM|     663332731| 2014-12-10|\n",
            "|R11D7R3VBRYB26|    8234778|B00E3QF8C2|     580429325| 2015-03-08|\n",
            "|R1209VB02CM4ZD|   27382433|B007WO4ENG|     567489042| 2013-12-21|\n",
            "+--------------+-----------+----------+--------------+-----------+\n",
            "only showing top 5 rows\n",
            "\n"
          ],
          "name": "stdout"
        }
      ]
    },
    {
      "cell_type": "code",
      "metadata": {
        "id": "20cY-5JthIAS",
        "colab": {
          "base_uri": "https://localhost:8080/"
        },
        "outputId": "47d9aef4-0ca7-448b-c7a1-5a0505690a91"
      },
      "source": [
        "print(review_id_df.count())\n",
        "review_id_df = review_id_df.dropDuplicates([\"review_id\"])\n",
        "print(review_id_df.count())"
      ],
      "execution_count": 14,
      "outputs": [
        {
          "output_type": "stream",
          "text": [
            "104973\n",
            "104973\n"
          ],
          "name": "stdout"
        }
      ]
    },
    {
      "cell_type": "markdown",
      "metadata": {
        "id": "hAt0GE0Nb1mQ"
      },
      "source": [
        "# **Create Dataframe for products_table**"
      ]
    },
    {
      "cell_type": "code",
      "metadata": {
        "id": "-0FRKovuVzby",
        "colab": {
          "base_uri": "https://localhost:8080/"
        },
        "outputId": "ce002f20-878c-4e15-b50c-cdc7c696552f"
      },
      "source": [
        "products_df = mobelec_df.select([\"product_id\", \"product_title\"])\n",
        "products_df.show(5)"
      ],
      "execution_count": 15,
      "outputs": [
        {
          "output_type": "stream",
          "text": [
            "+----------+--------------------+\n",
            "|product_id|       product_title|\n",
            "+----------+--------------------+\n",
            "|B00MJCDPM2|Sentey LS-4460 B-...|\n",
            "|B00HTXPBV4|Lychee® Fish Find...|\n",
            "|B00RCO24O2|Aweek® 5M Coaxial...|\n",
            "|B00AOH0MKM|Pyle PylePro PDWR...|\n",
            "|B00IWVE0Q4|LIMTECH GENUINE 7...|\n",
            "+----------+--------------------+\n",
            "only showing top 5 rows\n",
            "\n"
          ],
          "name": "stdout"
        }
      ]
    },
    {
      "cell_type": "code",
      "metadata": {
        "colab": {
          "base_uri": "https://localhost:8080/"
        },
        "id": "iZcLrUSbpWTt",
        "outputId": "95cb03a9-ff48-417b-8b10-7db42dbeca7a"
      },
      "source": [
        "# Drop duplicated review existed in sql database\n",
        "products_df_pre = spark.read.jdbc(url=jdbc_url,table=\"products\", properties=config_1)\n",
        "products_df = products_df.join(products_df_pre, [\"product_id\"], \"leftanti\")\n",
        "products_df.show(5)"
      ],
      "execution_count": 16,
      "outputs": [
        {
          "output_type": "stream",
          "text": [
            "+----------+--------------------+\n",
            "|product_id|       product_title|\n",
            "+----------+--------------------+\n",
            "|B0006BFQUM|Eminence American...|\n",
            "|B0006BFQUM|Eminence American...|\n",
            "|B0009YV3U8|Pyle PLCAP60HB 6 ...|\n",
            "|B000A50URS|Panasonic Digital...|\n",
            "|B000A50URS|Panasonic Digital...|\n",
            "+----------+--------------------+\n",
            "only showing top 5 rows\n",
            "\n"
          ],
          "name": "stdout"
        }
      ]
    },
    {
      "cell_type": "code",
      "metadata": {
        "colab": {
          "base_uri": "https://localhost:8080/"
        },
        "id": "0mkEtY5mphzl",
        "outputId": "bb71556a-06d5-47f7-88fa-e1a3ff308ec0"
      },
      "source": [
        "print(products_df.count())\n",
        "products_df = products_df.dropDuplicates([\"product_id\"])\n",
        "print(products_df.count())"
      ],
      "execution_count": 17,
      "outputs": [
        {
          "output_type": "stream",
          "text": [
            "104973\n",
            "25800\n"
          ],
          "name": "stdout"
        }
      ]
    },
    {
      "cell_type": "markdown",
      "metadata": {
        "id": "lmc93W45b4xf"
      },
      "source": [
        "# **Create Dataframe for customers_table**"
      ]
    },
    {
      "cell_type": "code",
      "metadata": {
        "id": "FyC67k4Db6jh",
        "colab": {
          "base_uri": "https://localhost:8080/"
        },
        "outputId": "fd224593-8de3-4ba0-97be-f5553852ac99"
      },
      "source": [
        "customers_df_new = mobelec_df.select([\"customer_id\"])\n",
        "customers_df_new = customers_df_new.groupBy(\"customer_id\").count()\n",
        "customers_df_new.show(5)"
      ],
      "execution_count": 18,
      "outputs": [
        {
          "output_type": "stream",
          "text": [
            "+-----------+-----+\n",
            "|customer_id|count|\n",
            "+-----------+-----+\n",
            "|    1397686|    1|\n",
            "|    1018724|    1|\n",
            "|   36548940|    1|\n",
            "|   22289410|    1|\n",
            "|   24879973|    1|\n",
            "+-----------+-----+\n",
            "only showing top 5 rows\n",
            "\n"
          ],
          "name": "stdout"
        }
      ]
    },
    {
      "cell_type": "code",
      "metadata": {
        "id": "Xl4PkSQb23fQ"
      },
      "source": [
        "# Creat a copy of sql database\n",
        "customers_df_pre = spark.read.jdbc(url=jdbc_url,table=\"customers\", properties=config_1)\n",
        "schema = customers_df_pre.schema\n",
        "customers_df_pre_pd = customers_df_pre.toPandas()\n",
        "_customers_df_pre = spark.createDataFrame(customers_df_pre_pd,schema=schema)\n",
        "del customers_df_pre_pd"
      ],
      "execution_count": 19,
      "outputs": []
    },
    {
      "cell_type": "code",
      "metadata": {
        "colab": {
          "base_uri": "https://localhost:8080/"
        },
        "id": "9yHaxeO23sgS",
        "outputId": "bdd12bd3-87d1-476b-a9e7-59984d9f06ce"
      },
      "source": [
        "# Get the total counts of each customer\n",
        "if _customers_df_pre.count():\n",
        "  customers_df=customers_df_new.join(_customers_df_pre,on=[\"customer_id\"],how=\"outer\")\n",
        "  customers_df=customers_df.fillna(0)\n",
        "  customers_df=customers_df.withColumn('total', sum(customers_df[col] for col in [\"count\", \"customer_count\"]))\n",
        "  customers_df = customers_df.drop(\"count\", \"customer_count\")\n",
        "  customers_df = customers_df.withColumnRenamed(\"total\", \"customer_count\")\n",
        "  customers_df.show(5)\n",
        "else:\n",
        "  customers_df = customers_df_new.withColumnRenamed(\"count\", \"customer_count\")\n",
        "  customers_df.show(5)"
      ],
      "execution_count": 20,
      "outputs": [
        {
          "output_type": "stream",
          "text": [
            "+-----------+--------------+\n",
            "|customer_id|customer_count|\n",
            "+-----------+--------------+\n",
            "|    1397686|             1|\n",
            "|    1018724|             1|\n",
            "|   36548940|             1|\n",
            "|   22289410|             1|\n",
            "|   24879973|             1|\n",
            "+-----------+--------------+\n",
            "only showing top 5 rows\n",
            "\n"
          ],
          "name": "stdout"
        }
      ]
    },
    {
      "cell_type": "code",
      "metadata": {
        "colab": {
          "base_uri": "https://localhost:8080/"
        },
        "id": "xnDUNRrK335J",
        "outputId": "27027c20-da0a-4e7b-8845-140e3900b5a8"
      },
      "source": [
        "print(customers_df.count())"
      ],
      "execution_count": 21,
      "outputs": [
        {
          "output_type": "stream",
          "text": [
            "101154\n"
          ],
          "name": "stdout"
        }
      ]
    },
    {
      "cell_type": "markdown",
      "metadata": {
        "id": "OJd09i6Tb7FF"
      },
      "source": [
        "# **Create Dataframe for vine_table**"
      ]
    },
    {
      "cell_type": "code",
      "metadata": {
        "id": "NUGCvRwEb9RT",
        "colab": {
          "base_uri": "https://localhost:8080/"
        },
        "outputId": "3e61cec9-50e9-4005-b35a-3c24b8858368"
      },
      "source": [
        "vine_df = mobelec_df.select([\"review_id\",\"star_rating\", \"helpful_votes\", \"total_votes\", \"vine\"])\n",
        "vine_df.show(5)"
      ],
      "execution_count": 22,
      "outputs": [
        {
          "output_type": "stream",
          "text": [
            "+--------------+-----------+-------------+-----------+----+\n",
            "|     review_id|star_rating|helpful_votes|total_votes|vine|\n",
            "+--------------+-----------+-------------+-----------+----+\n",
            "|R2OCDOIHJVF0EJ|          5|            0|          0|   N|\n",
            "|R18R2FSKAOINPA|          5|            1|          1|   N|\n",
            "|R3H5NR66VPQYF4|          5|            0|          0|   N|\n",
            "|R10G3P0YNL7O7G|          5|            1|          1|   N|\n",
            "| R4SFDXU19AFFA|          1|            0|          0|   N|\n",
            "+--------------+-----------+-------------+-----------+----+\n",
            "only showing top 5 rows\n",
            "\n"
          ],
          "name": "stdout"
        }
      ]
    },
    {
      "cell_type": "code",
      "metadata": {
        "id": "5aoPwZ-xY9qc",
        "colab": {
          "base_uri": "https://localhost:8080/"
        },
        "outputId": "9e5d9bfd-42c0-45e0-a049-b1858732e85c"
      },
      "source": [
        "# Drop duplicated review existed in sql database\n",
        "vine_df_pre = spark.read.jdbc(url=jdbc_url,table=\"vine_table\", properties=config_1)\n",
        "vine_df = vine_df.join(vine_df_pre, [\"review_id\"], \"leftanti\")\n",
        "vine_df.show(5)"
      ],
      "execution_count": 23,
      "outputs": [
        {
          "output_type": "stream",
          "text": [
            "+--------------+-----------+-------------+-----------+----+\n",
            "|     review_id|star_rating|helpful_votes|total_votes|vine|\n",
            "+--------------+-----------+-------------+-----------+----+\n",
            "|R10CICGOU7CUI8|          5|            1|          1|   N|\n",
            "|R10K7G8PMZHWY5|          4|            5|          5|   N|\n",
            "|R10TLNH0GLYEID|          1|            1|          2|   N|\n",
            "|R11D7R3VBRYB26|          5|            0|          0|   N|\n",
            "|R1209VB02CM4ZD|          5|            1|          1|   N|\n",
            "+--------------+-----------+-------------+-----------+----+\n",
            "only showing top 5 rows\n",
            "\n"
          ],
          "name": "stdout"
        }
      ]
    },
    {
      "cell_type": "code",
      "metadata": {
        "id": "S4y5ShHdiJo6",
        "colab": {
          "base_uri": "https://localhost:8080/"
        },
        "outputId": "e11fae10-2b98-4d10-d9f9-8feddbedcbe7"
      },
      "source": [
        "print(vine_df.count())\n",
        "vine_df = vine_df.dropDuplicates([\"review_id\"])\n",
        "print(vine_df.count())"
      ],
      "execution_count": 24,
      "outputs": [
        {
          "output_type": "stream",
          "text": [
            "104973\n",
            "104973\n"
          ],
          "name": "stdout"
        }
      ]
    },
    {
      "cell_type": "markdown",
      "metadata": {
        "id": "2kU7JXaseEa7"
      },
      "source": [
        "# **Write DataFrame to RDS**"
      ]
    },
    {
      "cell_type": "code",
      "metadata": {
        "id": "Rikb7Rwxe7bj"
      },
      "source": [
        "review_id_df.write.jdbc(url=jdbc_url, table=\"review_id_table\", mode=mode_1, properties=config_1)"
      ],
      "execution_count": 25,
      "outputs": []
    },
    {
      "cell_type": "code",
      "metadata": {
        "id": "C6i5jCubfCtJ"
      },
      "source": [
        "products_df.write.jdbc(url=jdbc_url, table=\"products\", mode=mode_1, properties=config_1)"
      ],
      "execution_count": 26,
      "outputs": []
    },
    {
      "cell_type": "code",
      "metadata": {
        "id": "MO94SbdAfZgR"
      },
      "source": [
        "customers_df.write.jdbc(url=jdbc_url, table=\"customers\", mode=mode_2, properties=config_2)"
      ],
      "execution_count": 27,
      "outputs": []
    },
    {
      "cell_type": "code",
      "metadata": {
        "id": "6t2VL00kfbBi"
      },
      "source": [
        "vine_df.write.jdbc(url=jdbc_url, table=\"vine_table\", mode=mode_1, properties=config_1)"
      ],
      "execution_count": 28,
      "outputs": []
    },
    {
      "cell_type": "code",
      "metadata": {
        "id": "FwReCjdefctH"
      },
      "source": [
        ""
      ],
      "execution_count": 28,
      "outputs": []
    }
  ]
}