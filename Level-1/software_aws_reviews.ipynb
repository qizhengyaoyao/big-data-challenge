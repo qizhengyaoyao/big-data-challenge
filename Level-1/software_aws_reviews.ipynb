{
  "nbformat": 4,
  "nbformat_minor": 0,
  "metadata": {
    "colab": {
      "name": "software_aws_reviews",
      "provenance": [],
      "collapsed_sections": []
    },
    "kernelspec": {
      "name": "python3",
      "display_name": "Python 3"
    },
    "language_info": {
      "name": "python"
    }
  },
  "cells": [
    {
      "cell_type": "code",
      "metadata": {
        "colab": {
          "base_uri": "https://localhost:8080/"
        },
        "id": "QDMh1MbBUPJm",
        "outputId": "6799e8df-8a90-4864-fc3e-254887b12505"
      },
      "source": [
        "import os\n",
        "# Find the latest version of spark 3.0  from http://www-us.apache.org/dist/spark/ and enter as the spark version\n",
        "# For example:\n",
        "# spark_version = 'spark-3.0.2'\n",
        "spark_version = 'spark-3.1.1'\n",
        "os.environ['SPARK_VERSION']=spark_version\n",
        "\n",
        "# Install Spark and Java\n",
        "!apt-get update\n",
        "!apt-get install openjdk-11-jdk-headless -qq > /dev/null\n",
        "!wget -q http://www-us.apache.org/dist/spark/$SPARK_VERSION/$SPARK_VERSION-bin-hadoop2.7.tgz\n",
        "!tar xf $SPARK_VERSION-bin-hadoop2.7.tgz\n",
        "!pip install -q findspark\n",
        "\n",
        "# Set Environment Variables\n",
        "os.environ[\"JAVA_HOME\"] = \"/usr/lib/jvm/java-11-openjdk-amd64\"\n",
        "os.environ[\"SPARK_HOME\"] = f\"/content/{spark_version}-bin-hadoop2.7\"\n",
        "\n",
        "# Start a SparkSession\n",
        "import findspark\n",
        "findspark.init()"
      ],
      "execution_count": null,
      "outputs": [
        {
          "output_type": "stream",
          "text": [
            "\r0% [Working]\r            \rGet:1 http://security.ubuntu.com/ubuntu bionic-security InRelease [88.7 kB]\n",
            "\r0% [Connecting to archive.ubuntu.com (91.189.88.142)] [1 InRelease 0 B/88.7 kB \r0% [Connecting to archive.ubuntu.com (91.189.88.142)] [Waiting for headers] [Co\r                                                                               \rGet:2 https://cloud.r-project.org/bin/linux/ubuntu bionic-cran40/ InRelease [3,626 B]\n",
            "\r                                                                               \rIgn:3 https://developer.download.nvidia.com/compute/cuda/repos/ubuntu1804/x86_64  InRelease\n",
            "\r                                                                               \r0% [Waiting for headers] [Waiting for headers] [Waiting for headers]\r0% [1 InRelease gpgv 88.7 kB] [Waiting for headers] [Waiting for headers] [Wait\r                                                                               \rIgn:4 https://developer.download.nvidia.com/compute/machine-learning/repos/ubuntu1804/x86_64  InRelease\n",
            "\r                                                                               \r0% [1 InRelease gpgv 88.7 kB] [Waiting for headers] [Waiting for headers]\r                                                                         \rGet:5 https://developer.download.nvidia.com/compute/cuda/repos/ubuntu1804/x86_64  Release [697 B]\n",
            "\r0% [1 InRelease gpgv 88.7 kB] [Waiting for headers] [Waiting for headers]\r                                                                         \rHit:6 https://developer.download.nvidia.com/compute/machine-learning/repos/ubuntu1804/x86_64  Release\n",
            "Hit:7 http://archive.ubuntu.com/ubuntu bionic InRelease\n",
            "Get:8 http://ppa.launchpad.net/c2d4u.team/c2d4u4.0+/ubuntu bionic InRelease [15.9 kB]\n",
            "Get:9 https://developer.download.nvidia.com/compute/cuda/repos/ubuntu1804/x86_64  Release.gpg [836 B]\n",
            "Get:10 http://archive.ubuntu.com/ubuntu bionic-updates InRelease [88.7 kB]\n",
            "Get:11 http://security.ubuntu.com/ubuntu bionic-security/universe amd64 Packages [1,411 kB]\n",
            "Hit:12 http://ppa.launchpad.net/cran/libgit2/ubuntu bionic InRelease\n",
            "Get:13 http://archive.ubuntu.com/ubuntu bionic-backports InRelease [74.6 kB]\n",
            "Get:14 http://security.ubuntu.com/ubuntu bionic-security/main amd64 Packages [2,150 kB]\n",
            "Hit:15 http://ppa.launchpad.net/deadsnakes/ppa/ubuntu bionic InRelease\n",
            "Get:16 http://security.ubuntu.com/ubuntu bionic-security/restricted amd64 Packages [423 kB]\n",
            "Get:17 https://cloud.r-project.org/bin/linux/ubuntu bionic-cran40/ Packages [56.8 kB]\n",
            "Get:18 http://ppa.launchpad.net/graphics-drivers/ppa/ubuntu bionic InRelease [21.3 kB]\n",
            "Ign:20 https://developer.download.nvidia.com/compute/cuda/repos/ubuntu1804/x86_64  Packages\n",
            "Get:20 https://developer.download.nvidia.com/compute/cuda/repos/ubuntu1804/x86_64  Packages [772 kB]\n",
            "Get:21 http://ppa.launchpad.net/c2d4u.team/c2d4u4.0+/ubuntu bionic/main Sources [1,767 kB]\n",
            "Get:22 http://archive.ubuntu.com/ubuntu bionic-updates/universe amd64 Packages [2,183 kB]\n",
            "Get:23 http://ppa.launchpad.net/c2d4u.team/c2d4u4.0+/ubuntu bionic/main amd64 Packages [904 kB]\n",
            "Get:24 http://archive.ubuntu.com/ubuntu bionic-updates/restricted amd64 Packages [452 kB]\n",
            "Get:25 http://archive.ubuntu.com/ubuntu bionic-updates/main amd64 Packages [2,582 kB]\n",
            "Get:26 http://ppa.launchpad.net/graphics-drivers/ppa/ubuntu bionic/main amd64 Packages [41.5 kB]\n",
            "Fetched 13.0 MB in 4s (3,419 kB/s)\n",
            "Reading package lists... Done\n"
          ],
          "name": "stdout"
        }
      ]
    },
    {
      "cell_type": "code",
      "metadata": {
        "colab": {
          "base_uri": "https://localhost:8080/"
        },
        "id": "H49tpWptUaK_",
        "outputId": "3774ed98-c511-4aa0-a3e8-e7f1a31b06bd"
      },
      "source": [
        "!wget https://jdbc.postgresql.org/download/postgresql-42.2.9.jar"
      ],
      "execution_count": null,
      "outputs": [
        {
          "output_type": "stream",
          "text": [
            "--2021-05-16 11:29:55--  https://jdbc.postgresql.org/download/postgresql-42.2.9.jar\n",
            "Resolving jdbc.postgresql.org (jdbc.postgresql.org)... 72.32.157.228, 2001:4800:3e1:1::228\n",
            "Connecting to jdbc.postgresql.org (jdbc.postgresql.org)|72.32.157.228|:443... connected.\n",
            "HTTP request sent, awaiting response... 200 OK\n",
            "Length: 914037 (893K) [application/java-archive]\n",
            "Saving to: ‘postgresql-42.2.9.jar’\n",
            "\n",
            "postgresql-42.2.9.j 100%[===================>] 892.61K  --.-KB/s    in 0.1s    \n",
            "\n",
            "2021-05-16 11:29:56 (6.10 MB/s) - ‘postgresql-42.2.9.jar’ saved [914037/914037]\n",
            "\n"
          ],
          "name": "stdout"
        }
      ]
    },
    {
      "cell_type": "code",
      "metadata": {
        "id": "dAPDwXHZUyWZ"
      },
      "source": [
        "from pyspark.sql import SparkSession\n",
        "spark = SparkSession.builder.appName(\"CloudETL_AWS_software\").config(\"spark.driver.extraClassPath\",\"/content/postgresql-42.2.9.jar\").getOrCreate()"
      ],
      "execution_count": null,
      "outputs": []
    },
    {
      "cell_type": "code",
      "metadata": {
        "id": "B0mHRKhgDBEa"
      },
      "source": [
        "# Configuration for RDS instance\n",
        "jdbc_url = \"jdbc:postgresql://<insert endpoint>:5432/big_data_db\"\n",
        "mode_1=\"append\"\n",
        "config_1 = {\"user\":\"postgres\",\n",
        "          \"password\": \"<insert password>\",\n",
        "          \"driver\":\"org.postgresql.Driver\"}\n",
        "mode_2=\"overwrite\"\n",
        "config_2 = {\"user\":\"postgres\",\n",
        "          \"password\": \"<insert password>\",\n",
        "          \"truncate\": \"true\",\n",
        "          \"driver\":\"org.postgresql.Driver\"}"
      ],
      "execution_count": null,
      "outputs": []
    },
    {
      "cell_type": "code",
      "metadata": {
        "colab": {
          "base_uri": "https://localhost:8080/"
        },
        "id": "i5K3pkyAU-k9",
        "outputId": "e583f4d7-f2e6-4f31-cb55-1ba7c34dca54"
      },
      "source": [
        "from pyspark import SparkFiles\n",
        "#load software reviews data from s3.amazonaws.com\n",
        "url = \"https://s3.amazonaws.com/amazon-reviews-pds/tsv/amazon_reviews_us_Digital_Software_v1_00.tsv.gz\"\n",
        "spark.sparkContext.addFile(url)\n",
        "\n",
        "software_df = spark.read.option(\"header\",\"true\").csv(SparkFiles.get(\"amazon_reviews_us_Digital_Software_v1_00.tsv.gz\"), inferSchema=True, dateFormat=\"yyyy-MM-dd\",sep=\"\\t\")\n",
        "software_df.show(10)"
      ],
      "execution_count": null,
      "outputs": [
        {
          "output_type": "stream",
          "text": [
            "+-----------+-----------+--------------+----------+--------------+--------------------+----------------+-----------+-------------+-----------+----+-----------------+--------------------+--------------------+-----------+\n",
            "|marketplace|customer_id|     review_id|product_id|product_parent|       product_title|product_category|star_rating|helpful_votes|total_votes|vine|verified_purchase|     review_headline|         review_body|review_date|\n",
            "+-----------+-----------+--------------+----------+--------------+--------------------+----------------+-----------+-------------+-----------+----+-----------------+--------------------+--------------------+-----------+\n",
            "|         US|   17747349|R2EI7QLPK4LF7U|B00U7LCE6A|     106182406|CCleaner Free [Do...|Digital_Software|          4|            0|          0|   N|                Y|          Four Stars|      So far so good| 2015-08-31|\n",
            "|         US|   10956619|R1W5OMFK1Q3I3O|B00HRJMOM4|     162269768|ResumeMaker Profe...|Digital_Software|          3|            0|          0|   N|                Y|         Three Stars|Needs a little mo...| 2015-08-31|\n",
            "|         US|   13132245| RPZWSYWRP92GI|B00P31G9PQ|     831433899|Amazon Drive Desk...|Digital_Software|          1|            1|          2|   N|                Y|            One Star|      Please cancel.| 2015-08-31|\n",
            "|         US|   35717248|R2WQWM04XHD9US|B00FGDEPDY|     991059534|Norton Internet S...|Digital_Software|          5|            0|          0|   N|                Y|  Works as Expected!|  Works as Expected!| 2015-08-31|\n",
            "|         US|   17710652|R1WSPK2RA2PDEF|B00FZ0FK0U|     574904556|SecureAnywhere In...|Digital_Software|          4|            1|          2|   N|                Y|Great antivirus. ...|I've had Webroot ...| 2015-08-31|\n",
            "|         US|   42392705|R11JVGRZRHTDAS|B004KPKSRQ|     306022575|Pc Matic Performa...|Digital_Software|          5|            4|          4|   N|                N|Great choice in s...|EXCELLENT softwar...| 2015-08-31|\n",
            "|         US|   52845868|R2B8468OKXXYE2|B00B1TFNTW|      54873662|Microsoft OneNote...|Digital_Software|          1|            1|          1|   N|                N|Munch, munch, mun...|The variations cr...| 2015-08-31|\n",
            "|         US|   15696503|R2HGGCCZSSNUCB|B00M9GTJLY|     103182180|Intuit Quicken Re...|Digital_Software|          1|            0|          0|   N|                Y|Horrible! Would n...|Horrible!  Would ...| 2015-08-31|\n",
            "|         US|    9723928| REEE4LHSVPRV9|B00H9A60O4|     608720080|Avast Free Antivi...|Digital_Software|          1|            0|          0|   N|                Y|            One Star|     Waste of time .| 2015-08-31|\n",
            "|         US|   23522877|R25OMUUILFFHI9|B008XAXAC4|      87969525|Apache OpenOffice...|Digital_Software|          5|            0|          0|   N|                Y|Very good suite o...|Work as easy as o...| 2015-08-31|\n",
            "+-----------+-----------+--------------+----------+--------------+--------------------+----------------+-----------+-------------+-----------+----+-----------------+--------------------+--------------------+-----------+\n",
            "only showing top 10 rows\n",
            "\n"
          ],
          "name": "stdout"
        }
      ]
    },
    {
      "cell_type": "markdown",
      "metadata": {
        "id": "V7VFZBnbVRcW"
      },
      "source": [
        "# **Drop duplicates and incomplete rows**"
      ]
    },
    {
      "cell_type": "code",
      "metadata": {
        "colab": {
          "base_uri": "https://localhost:8080/"
        },
        "id": "GEmuRh9TVNIV",
        "outputId": "7d0e3b70-d3d1-47b9-db56-bb426578be9c"
      },
      "source": [
        "print(software_df.count())\n",
        "software_df = software_df.dropna()\n",
        "print(software_df.count())\n",
        "software_df = software_df.dropDuplicates()\n",
        "print(software_df.count())"
      ],
      "execution_count": null,
      "outputs": [
        {
          "output_type": "stream",
          "text": [
            "102084\n",
            "102077\n",
            "102077\n"
          ],
          "name": "stdout"
        }
      ]
    },
    {
      "cell_type": "markdown",
      "metadata": {
        "id": "vilEUB9rVuDF"
      },
      "source": [
        "# **Examine the schema**"
      ]
    },
    {
      "cell_type": "code",
      "metadata": {
        "colab": {
          "base_uri": "https://localhost:8080/"
        },
        "id": "Bzg34LOKVrXB",
        "outputId": "533faac4-c35d-41b7-f1ed-73bc40da6789"
      },
      "source": [
        "software_df.printSchema()"
      ],
      "execution_count": null,
      "outputs": [
        {
          "output_type": "stream",
          "text": [
            "root\n",
            " |-- marketplace: string (nullable = true)\n",
            " |-- customer_id: integer (nullable = true)\n",
            " |-- review_id: string (nullable = true)\n",
            " |-- product_id: string (nullable = true)\n",
            " |-- product_parent: integer (nullable = true)\n",
            " |-- product_title: string (nullable = true)\n",
            " |-- product_category: string (nullable = true)\n",
            " |-- star_rating: integer (nullable = true)\n",
            " |-- helpful_votes: integer (nullable = true)\n",
            " |-- total_votes: integer (nullable = true)\n",
            " |-- vine: string (nullable = true)\n",
            " |-- verified_purchase: string (nullable = true)\n",
            " |-- review_headline: string (nullable = true)\n",
            " |-- review_body: string (nullable = true)\n",
            " |-- review_date: string (nullable = true)\n",
            "\n"
          ],
          "name": "stdout"
        }
      ]
    },
    {
      "cell_type": "markdown",
      "metadata": {
        "id": "7Bj60VNUZwtK"
      },
      "source": [
        "# **Transfor Dataframe type**"
      ]
    },
    {
      "cell_type": "code",
      "metadata": {
        "colab": {
          "base_uri": "https://localhost:8080/"
        },
        "id": "OSOSB65HZ7gh",
        "outputId": "1066b1ed-6016-40f3-8c7a-b0090668fe17"
      },
      "source": [
        "import datetime\n",
        "software_df = software_df.withColumn(\"review_date\",software_df[\"review_date\"].cast(\"date\"))\n",
        "software_df.show(5)"
      ],
      "execution_count": null,
      "outputs": [
        {
          "output_type": "stream",
          "text": [
            "+-----------+-----------+--------------+----------+--------------+--------------------+----------------+-----------+-------------+-----------+----+-----------------+--------------------+--------------------+-----------+\n",
            "|marketplace|customer_id|     review_id|product_id|product_parent|       product_title|product_category|star_rating|helpful_votes|total_votes|vine|verified_purchase|     review_headline|         review_body|review_date|\n",
            "+-----------+-----------+--------------+----------+--------------+--------------------+----------------+-----------+-------------+-----------+----+-----------------+--------------------+--------------------+-----------+\n",
            "|         US|   38713083|R1R421TU4E484F|B00FJIBYLW|     880437537|The Print Shop De...|Digital_Software|          2|            0|          1|   N|                Y|Even though this ...|Even though this ...| 2015-08-30|\n",
            "|         US|   32002607|R25BMAAMJFM3G6|B003LJXELE|     527297648|Typing Instructor...|Digital_Software|          1|            0|          0|   N|                Y|          SO 1990's!|Don't waste your ...| 2015-08-29|\n",
            "|         US|   13303537|R3QT4NP1EY53YR|B00H9A60O4|     608720080|Avast Free Antivi...|Digital_Software|          3|            0|          0|   N|                Y|         Three Stars|It works very goo...| 2015-08-28|\n",
            "|         US|   46490624| R1Q8XBH55CII3|B00NG7JQHW|      42668324|TurboTax Business...|Digital_Software|          5|            0|          0|   N|                Y|          Five Stars|               works| 2015-08-25|\n",
            "|         US|   31207284|R2MM3GBNRQ0H4N|B00NG7JVSQ|     811978073|TurboTax Deluxe F...|Digital_Software|          4|            0|          3|   N|                Y|          Time Saver|Hard to like anyt...| 2015-08-24|\n",
            "+-----------+-----------+--------------+----------+--------------+--------------------+----------------+-----------+-------------+-----------+----+-----------------+--------------------+--------------------+-----------+\n",
            "only showing top 5 rows\n",
            "\n"
          ],
          "name": "stdout"
        }
      ]
    },
    {
      "cell_type": "code",
      "metadata": {
        "colab": {
          "base_uri": "https://localhost:8080/"
        },
        "id": "NYP9_VStbk64",
        "outputId": "eb487a6a-af6c-4e1f-faa9-e7a060e972c3"
      },
      "source": [
        "software_df.printSchema()"
      ],
      "execution_count": null,
      "outputs": [
        {
          "output_type": "stream",
          "text": [
            "root\n",
            " |-- marketplace: string (nullable = true)\n",
            " |-- customer_id: integer (nullable = true)\n",
            " |-- review_id: string (nullable = true)\n",
            " |-- product_id: string (nullable = true)\n",
            " |-- product_parent: integer (nullable = true)\n",
            " |-- product_title: string (nullable = true)\n",
            " |-- product_category: string (nullable = true)\n",
            " |-- star_rating: integer (nullable = true)\n",
            " |-- helpful_votes: integer (nullable = true)\n",
            " |-- total_votes: integer (nullable = true)\n",
            " |-- vine: string (nullable = true)\n",
            " |-- verified_purchase: string (nullable = true)\n",
            " |-- review_headline: string (nullable = true)\n",
            " |-- review_body: string (nullable = true)\n",
            " |-- review_date: date (nullable = true)\n",
            "\n"
          ],
          "name": "stdout"
        }
      ]
    },
    {
      "cell_type": "markdown",
      "metadata": {
        "id": "WgVaSCuMYZUS"
      },
      "source": [
        "# **Create Dataframe for review_id_table**"
      ]
    },
    {
      "cell_type": "code",
      "metadata": {
        "colab": {
          "base_uri": "https://localhost:8080/"
        },
        "id": "n1tC-s_7ZlmO",
        "outputId": "97ae5a81-e304-4fd0-a342-e81954d802d8"
      },
      "source": [
        "review_id_df = software_df.select([\"review_id\", \"customer_id\", \"product_id\", \"product_parent\", \"review_date\"])\n",
        "review_id_df.show(5)"
      ],
      "execution_count": null,
      "outputs": [
        {
          "output_type": "stream",
          "text": [
            "+--------------+-----------+----------+--------------+-----------+\n",
            "|     review_id|customer_id|product_id|product_parent|review_date|\n",
            "+--------------+-----------+----------+--------------+-----------+\n",
            "|R1R421TU4E484F|   38713083|B00FJIBYLW|     880437537| 2015-08-30|\n",
            "|R25BMAAMJFM3G6|   32002607|B003LJXELE|     527297648| 2015-08-29|\n",
            "|R3QT4NP1EY53YR|   13303537|B00H9A60O4|     608720080| 2015-08-28|\n",
            "| R1Q8XBH55CII3|   46490624|B00NG7JQHW|      42668324| 2015-08-25|\n",
            "|R2MM3GBNRQ0H4N|   31207284|B00NG7JVSQ|     811978073| 2015-08-24|\n",
            "+--------------+-----------+----------+--------------+-----------+\n",
            "only showing top 5 rows\n",
            "\n"
          ],
          "name": "stdout"
        }
      ]
    },
    {
      "cell_type": "code",
      "metadata": {
        "id": "_nyF4dTDZ_FE",
        "colab": {
          "base_uri": "https://localhost:8080/"
        },
        "outputId": "05888303-9ba9-4bf5-91e6-cda304c7d294"
      },
      "source": [
        "# Drop duplicated review existed in sql database\n",
        "review_id_df_pre = spark.read.jdbc(url=jdbc_url,table=\"review_id_table\", properties=config_1)\n",
        "review_id_df = review_id_df.join(review_id_df_pre, [\"review_id\"], \"leftanti\")\n",
        "review_id_df.show(5)"
      ],
      "execution_count": null,
      "outputs": [
        {
          "output_type": "stream",
          "text": [
            "+--------------+-----------+----------+--------------+-----------+\n",
            "|     review_id|customer_id|product_id|product_parent|review_date|\n",
            "+--------------+-----------+----------+--------------+-----------+\n",
            "|R1039AWAAHWVDQ|   45648423|B008S0IP38|     383426331| 2012-11-06|\n",
            "|R103AF1E7F9HDL|   19545114|B00E7X8YK4|     713752890| 2014-08-09|\n",
            "|R10ED5FSM3SZGU|   23956042|B00FFINOWS|     875090538| 2014-02-21|\n",
            "|R10GS4J96PML2E|   10729322|B00MHZ6Z64|     249773946| 2015-02-14|\n",
            "|R10O1VRSXC1V0I|   39675928|B009HBCZPQ|     808553197| 2013-02-19|\n",
            "+--------------+-----------+----------+--------------+-----------+\n",
            "only showing top 5 rows\n",
            "\n"
          ],
          "name": "stdout"
        }
      ]
    },
    {
      "cell_type": "code",
      "metadata": {
        "colab": {
          "base_uri": "https://localhost:8080/"
        },
        "id": "20cY-5JthIAS",
        "outputId": "071db284-c395-49ff-dd7b-1ae79f53388d"
      },
      "source": [
        "print(review_id_df.count())\n",
        "review_id_df = review_id_df.dropDuplicates([\"review_id\"])\n",
        "print(review_id_df.count())"
      ],
      "execution_count": null,
      "outputs": [
        {
          "output_type": "stream",
          "text": [
            "102077\n",
            "102077\n"
          ],
          "name": "stdout"
        }
      ]
    },
    {
      "cell_type": "markdown",
      "metadata": {
        "id": "hAt0GE0Nb1mQ"
      },
      "source": [
        "# **Create Dataframe for products_table**"
      ]
    },
    {
      "cell_type": "code",
      "metadata": {
        "colab": {
          "base_uri": "https://localhost:8080/"
        },
        "id": "-0FRKovuVzby",
        "outputId": "8982819d-339c-4f03-d8a6-f8a98b1eb5b7"
      },
      "source": [
        "products_df = software_df.select([\"product_id\", \"product_title\"])\n",
        "products_df.show(5)"
      ],
      "execution_count": null,
      "outputs": [
        {
          "output_type": "stream",
          "text": [
            "+----------+--------------------+\n",
            "|product_id|       product_title|\n",
            "+----------+--------------------+\n",
            "|B00FJIBYLW|The Print Shop De...|\n",
            "|B003LJXELE|Typing Instructor...|\n",
            "|B00H9A60O4|Avast Free Antivi...|\n",
            "|B00NG7JQHW|TurboTax Business...|\n",
            "|B00NG7JVSQ|TurboTax Deluxe F...|\n",
            "+----------+--------------------+\n",
            "only showing top 5 rows\n",
            "\n"
          ],
          "name": "stdout"
        }
      ]
    },
    {
      "cell_type": "code",
      "metadata": {
        "id": "P9xtNfXRYCqD",
        "colab": {
          "base_uri": "https://localhost:8080/"
        },
        "outputId": "008f1dc4-fa8f-4b3a-d001-559e6a4b8ad7"
      },
      "source": [
        "# Drop duplicated review existed in sql database\n",
        "products_df_pre = spark.read.jdbc(url=jdbc_url,table=\"products\", properties=config_1)\n",
        "products_df = products_df.join(products_df_pre, [\"product_id\"], \"leftanti\")\n",
        "products_df.show(5)"
      ],
      "execution_count": null,
      "outputs": [
        {
          "output_type": "stream",
          "text": [
            "+----------+--------------------+\n",
            "|product_id|       product_title|\n",
            "+----------+--------------------+\n",
            "|B007QV9EXU|Mavis Beacon Keyb...|\n",
            "|B007QV9EXU|Mavis Beacon Keyb...|\n",
            "|B007QV9EXU|Mavis Beacon Keyb...|\n",
            "|B007QV9EXU|Mavis Beacon Keyb...|\n",
            "|B007QV9EXU|Mavis Beacon Keyb...|\n",
            "+----------+--------------------+\n",
            "only showing top 5 rows\n",
            "\n"
          ],
          "name": "stdout"
        }
      ]
    },
    {
      "cell_type": "code",
      "metadata": {
        "colab": {
          "base_uri": "https://localhost:8080/"
        },
        "id": "1eVMuxBJiAgd",
        "outputId": "b8a3a37d-b970-454c-8944-9a62056d0682"
      },
      "source": [
        "print(products_df.count())\n",
        "products_df = products_df.dropDuplicates([\"product_id\"])\n",
        "print(products_df.count())"
      ],
      "execution_count": null,
      "outputs": [
        {
          "output_type": "stream",
          "text": [
            "102077\n",
            "2998\n"
          ],
          "name": "stdout"
        }
      ]
    },
    {
      "cell_type": "markdown",
      "metadata": {
        "id": "lmc93W45b4xf"
      },
      "source": [
        "# **Create Dataframe for customers_table**"
      ]
    },
    {
      "cell_type": "code",
      "metadata": {
        "colab": {
          "base_uri": "https://localhost:8080/"
        },
        "id": "FyC67k4Db6jh",
        "outputId": "893c7ccf-b280-4307-a4a1-7dffcd879923"
      },
      "source": [
        "customers_df_new = software_df.select([\"customer_id\"])\n",
        "customers_df_new = customers_df_new.groupBy(\"customer_id\").count()\n",
        "customers_df_new.show(5)"
      ],
      "execution_count": null,
      "outputs": [
        {
          "output_type": "stream",
          "text": [
            "+-----------+-----+\n",
            "|customer_id|count|\n",
            "+-----------+-----+\n",
            "|    8429442|    1|\n",
            "|   15259970|    1|\n",
            "|   49572061|    1|\n",
            "|   49007721|    1|\n",
            "|   47356179|    1|\n",
            "+-----------+-----+\n",
            "only showing top 5 rows\n",
            "\n"
          ],
          "name": "stdout"
        }
      ]
    },
    {
      "cell_type": "code",
      "metadata": {
        "id": "QscjHEba7MNn"
      },
      "source": [
        "# Creat a copy of sql database\n",
        "customers_df_pre = spark.read.jdbc(url=jdbc_url,table=\"customers\", properties=config_1)\n",
        "schema = customers_df_pre.schema\n",
        "customers_df_pre_pd = customers_df_pre.toPandas()\n",
        "_customers_df_pre = spark.createDataFrame(customers_df_pre_pd,schema=schema)\n",
        "del customers_df_pre_pd"
      ],
      "execution_count": null,
      "outputs": []
    },
    {
      "cell_type": "code",
      "metadata": {
        "colab": {
          "base_uri": "https://localhost:8080/"
        },
        "id": "Wt5cJfW-dPng",
        "outputId": "7bda7143-9fbe-4bd7-ea78-e1d736e9b85d"
      },
      "source": [
        "# Get the total counts of each customer\n",
        "if _customers_df_pre.count():\n",
        "  customers_df=customers_df_new.join(_customers_df_pre,on=[\"customer_id\"],how=\"outer\")\n",
        "  customers_df=customers_df.fillna(0)\n",
        "  customers_df=customers_df.withColumn('total', sum(customers_df[col] for col in [\"count\", \"customer_count\"]))\n",
        "  customers_df = customers_df.drop(\"count\", \"customer_count\")\n",
        "  customers_df = customers_df.withColumnRenamed(\"total\", \"customer_count\")\n",
        "  customers_df.show(5)\n",
        "else:\n",
        "  customers_df = customers_df_new.withColumnRenamed(\"count\", \"customer_count\")\n",
        "  customers_df.show(5)"
      ],
      "execution_count": null,
      "outputs": [
        {
          "output_type": "stream",
          "text": [
            "+-----------+--------------+\n",
            "|customer_id|customer_count|\n",
            "+-----------+--------------+\n",
            "|    8429442|             1|\n",
            "|   15259970|             1|\n",
            "|   49572061|             1|\n",
            "|   49007721|             1|\n",
            "|   47356179|             1|\n",
            "+-----------+--------------+\n",
            "only showing top 5 rows\n",
            "\n"
          ],
          "name": "stdout"
        }
      ]
    },
    {
      "cell_type": "code",
      "metadata": {
        "colab": {
          "base_uri": "https://localhost:8080/"
        },
        "id": "3vJhPCOK7RHG",
        "outputId": "ef26a08d-80b1-43ea-d0b2-3df748f02354"
      },
      "source": [
        "print(customers_df.count())"
      ],
      "execution_count": null,
      "outputs": [
        {
          "output_type": "stream",
          "text": [
            "94308\n"
          ],
          "name": "stdout"
        }
      ]
    },
    {
      "cell_type": "markdown",
      "metadata": {
        "id": "OJd09i6Tb7FF"
      },
      "source": [
        "# **Create Dataframe for vine_table**"
      ]
    },
    {
      "cell_type": "code",
      "metadata": {
        "colab": {
          "base_uri": "https://localhost:8080/"
        },
        "id": "NUGCvRwEb9RT",
        "outputId": "f53b4337-e026-4fd5-ff93-60f283e3de9a"
      },
      "source": [
        "vine_df = software_df.select([\"review_id\",\"star_rating\", \"helpful_votes\", \"total_votes\", \"vine\"])\n",
        "vine_df.show(5)"
      ],
      "execution_count": null,
      "outputs": [
        {
          "output_type": "stream",
          "text": [
            "+--------------+-----------+-------------+-----------+----+\n",
            "|     review_id|star_rating|helpful_votes|total_votes|vine|\n",
            "+--------------+-----------+-------------+-----------+----+\n",
            "|R1R421TU4E484F|          2|            0|          1|   N|\n",
            "|R25BMAAMJFM3G6|          1|            0|          0|   N|\n",
            "|R3QT4NP1EY53YR|          3|            0|          0|   N|\n",
            "| R1Q8XBH55CII3|          5|            0|          0|   N|\n",
            "|R2MM3GBNRQ0H4N|          4|            0|          3|   N|\n",
            "+--------------+-----------+-------------+-----------+----+\n",
            "only showing top 5 rows\n",
            "\n"
          ],
          "name": "stdout"
        }
      ]
    },
    {
      "cell_type": "code",
      "metadata": {
        "id": "px7gPV1qacc8",
        "colab": {
          "base_uri": "https://localhost:8080/"
        },
        "outputId": "f47717c4-b9b1-48c4-9591-eb921a452f4a"
      },
      "source": [
        "# Drop duplicated review existed in sql database\n",
        "vine_df_pre = spark.read.jdbc(url=jdbc_url,table=\"vine_table\", properties=config_1)\n",
        "vine_df = vine_df.join(vine_df_pre, [\"review_id\"], \"leftanti\")\n",
        "vine_df.show(5)"
      ],
      "execution_count": null,
      "outputs": [
        {
          "output_type": "stream",
          "text": [
            "+--------------+-----------+-------------+-----------+----+\n",
            "|     review_id|star_rating|helpful_votes|total_votes|vine|\n",
            "+--------------+-----------+-------------+-----------+----+\n",
            "|R1039AWAAHWVDQ|          4|            1|          4|   N|\n",
            "|R103AF1E7F9HDL|          3|            0|          0|   N|\n",
            "|R10ED5FSM3SZGU|          1|            1|          3|   N|\n",
            "|R10GS4J96PML2E|          5|            1|          1|   N|\n",
            "|R10O1VRSXC1V0I|          4|            1|          1|   N|\n",
            "+--------------+-----------+-------------+-----------+----+\n",
            "only showing top 5 rows\n",
            "\n"
          ],
          "name": "stdout"
        }
      ]
    },
    {
      "cell_type": "code",
      "metadata": {
        "colab": {
          "base_uri": "https://localhost:8080/"
        },
        "id": "S4y5ShHdiJo6",
        "outputId": "f5de18e8-a989-40b1-bc1e-009f82c25743"
      },
      "source": [
        "print(vine_df.count())\n",
        "vine_df = vine_df.dropDuplicates([\"review_id\"])\n",
        "print(vine_df.count())"
      ],
      "execution_count": null,
      "outputs": [
        {
          "output_type": "stream",
          "text": [
            "102077\n",
            "102077\n"
          ],
          "name": "stdout"
        }
      ]
    },
    {
      "cell_type": "markdown",
      "metadata": {
        "id": "2kU7JXaseEa7"
      },
      "source": [
        "# **Write DataFrame to RDS**"
      ]
    },
    {
      "cell_type": "code",
      "metadata": {
        "id": "Rikb7Rwxe7bj"
      },
      "source": [
        "review_id_df.write.jdbc(url=jdbc_url, table=\"review_id_table\", mode=mode_1, properties=config_1)"
      ],
      "execution_count": null,
      "outputs": []
    },
    {
      "cell_type": "code",
      "metadata": {
        "id": "C6i5jCubfCtJ"
      },
      "source": [
        "products_df.write.jdbc(url=jdbc_url, table=\"products\", mode=mode_1, properties=config_1)"
      ],
      "execution_count": null,
      "outputs": []
    },
    {
      "cell_type": "code",
      "metadata": {
        "id": "MO94SbdAfZgR"
      },
      "source": [
        "customers_df.write.jdbc(url=jdbc_url, table=\"customers\", mode=mode_2, properties=config_2)"
      ],
      "execution_count": null,
      "outputs": []
    },
    {
      "cell_type": "code",
      "metadata": {
        "id": "6t2VL00kfbBi"
      },
      "source": [
        "vine_df.write.jdbc(url=jdbc_url, table=\"vine_table\", mode=mode_1, properties=config_1)"
      ],
      "execution_count": null,
      "outputs": []
    },
    {
      "cell_type": "code",
      "metadata": {
        "id": "aFyyrxScHtpg"
      },
      "source": [
        ""
      ],
      "execution_count": null,
      "outputs": []
    }
  ]
}