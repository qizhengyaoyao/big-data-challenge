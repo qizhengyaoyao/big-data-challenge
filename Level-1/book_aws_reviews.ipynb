{
  "nbformat": 4,
  "nbformat_minor": 0,
  "metadata": {
    "colab": {
      "name": "book_aws_reviews",
      "provenance": [],
      "collapsed_sections": []
    },
    "kernelspec": {
      "name": "python3",
      "display_name": "Python 3"
    },
    "language_info": {
      "name": "python"
    }
  },
  "cells": [
    {
      "cell_type": "code",
      "metadata": {
        "colab": {
          "base_uri": "https://localhost:8080/"
        },
        "id": "QDMh1MbBUPJm",
        "outputId": "7d010e17-ec7e-4d28-bfe3-2699fc75a683"
      },
      "source": [
        "import os\n",
        "# Find the latest version of spark 3.0  from http://www-us.apache.org/dist/spark/ and enter as the spark version\n",
        "# For example:\n",
        "# spark_version = 'spark-3.0.2'\n",
        "spark_version = 'spark-3.1.1'\n",
        "os.environ['SPARK_VERSION']=spark_version\n",
        "\n",
        "# Install Spark and Java\n",
        "!apt-get update\n",
        "!apt-get install openjdk-11-jdk-headless -qq > /dev/null\n",
        "!wget -q http://www-us.apache.org/dist/spark/$SPARK_VERSION/$SPARK_VERSION-bin-hadoop2.7.tgz\n",
        "!tar xf $SPARK_VERSION-bin-hadoop2.7.tgz\n",
        "!pip install -q findspark\n",
        "\n",
        "# Set Environment Variables\n",
        "os.environ[\"JAVA_HOME\"] = \"/usr/lib/jvm/java-11-openjdk-amd64\"\n",
        "os.environ[\"SPARK_HOME\"] = f\"/content/{spark_version}-bin-hadoop2.7\"\n",
        "\n",
        "# Start a SparkSession\n",
        "import findspark\n",
        "findspark.init()"
      ],
      "execution_count": 6,
      "outputs": [
        {
          "output_type": "stream",
          "text": [
            "\r0% [Working]\r            \rHit:1 http://ppa.launchpad.net/c2d4u.team/c2d4u4.0+/ubuntu bionic InRelease\n",
            "\r0% [Connecting to archive.ubuntu.com (91.189.88.142)] [Connecting to security.u\r                                                                               \rHit:2 http://archive.ubuntu.com/ubuntu bionic InRelease\n",
            "\r0% [Waiting for headers] [Connecting to security.ubuntu.com (91.189.91.38)] [Co\r0% [1 InRelease gpgv 15.9 kB] [Waiting for headers] [Connecting to security.ubu\r                                                                               \rHit:3 http://ppa.launchpad.net/cran/libgit2/ubuntu bionic InRelease\n",
            "\r0% [1 InRelease gpgv 15.9 kB] [Waiting for headers] [Connecting to security.ubu\r                                                                               \rGet:4 http://archive.ubuntu.com/ubuntu bionic-updates InRelease [88.7 kB]\n",
            "\r0% [1 InRelease gpgv 15.9 kB] [4 InRelease 8,192 B/88.7 kB 9%] [Connecting to s\r                                                                               \rHit:5 http://ppa.launchpad.net/deadsnakes/ppa/ubuntu bionic InRelease\n",
            "\r0% [1 InRelease gpgv 15.9 kB] [4 InRelease 47.5 kB/88.7 kB 54%] [Connecting to \r                                                                               \rHit:6 https://cloud.r-project.org/bin/linux/ubuntu bionic-cran40/ InRelease\n",
            "\r0% [1 InRelease gpgv 15.9 kB] [4 InRelease 54.7 kB/88.7 kB 62%] [Connecting to \r0% [1 InRelease gpgv 15.9 kB] [Waiting for headers] [Connecting to security.ubu\r                                                                               \rGet:7 http://archive.ubuntu.com/ubuntu bionic-backports InRelease [74.6 kB]\n",
            "\r0% [1 InRelease gpgv 15.9 kB] [7 InRelease 8,394 B/74.6 kB 11%] [Waiting for he\r                                                                               \rHit:8 http://ppa.launchpad.net/graphics-drivers/ppa/ubuntu bionic InRelease\n",
            "\r0% [1 InRelease gpgv 15.9 kB] [7 InRelease 43.1 kB/74.6 kB 58%] [Waiting for he\r                                                                               \r0% [1 InRelease gpgv 15.9 kB] [Waiting for headers] [Waiting for headers]\r                                                                         \rGet:9 http://security.ubuntu.com/ubuntu bionic-security InRelease [88.7 kB]\n",
            "Ign:10 https://developer.download.nvidia.com/compute/cuda/repos/ubuntu1804/x86_64  InRelease\n",
            "Ign:11 https://developer.download.nvidia.com/compute/machine-learning/repos/ubuntu1804/x86_64  InRelease\n",
            "Hit:12 https://developer.download.nvidia.com/compute/cuda/repos/ubuntu1804/x86_64  Release\n",
            "Hit:13 https://developer.download.nvidia.com/compute/machine-learning/repos/ubuntu1804/x86_64  Release\n",
            "Fetched 252 kB in 3s (97.8 kB/s)\n",
            "Reading package lists... Done\n"
          ],
          "name": "stdout"
        }
      ]
    },
    {
      "cell_type": "code",
      "metadata": {
        "colab": {
          "base_uri": "https://localhost:8080/"
        },
        "id": "H49tpWptUaK_",
        "outputId": "8584acab-c2c3-42cf-97f5-47a538685a8f"
      },
      "source": [
        "!wget https://jdbc.postgresql.org/download/postgresql-42.2.9.jar"
      ],
      "execution_count": 7,
      "outputs": [
        {
          "output_type": "stream",
          "text": [
            "--2021-05-15 08:32:08--  https://jdbc.postgresql.org/download/postgresql-42.2.9.jar\n",
            "Resolving jdbc.postgresql.org (jdbc.postgresql.org)... 72.32.157.228, 2001:4800:3e1:1::228\n",
            "Connecting to jdbc.postgresql.org (jdbc.postgresql.org)|72.32.157.228|:443... connected.\n",
            "HTTP request sent, awaiting response... 200 OK\n",
            "Length: 914037 (893K) [application/java-archive]\n",
            "Saving to: ‘postgresql-42.2.9.jar.1’\n",
            "\n",
            "postgresql-42.2.9.j 100%[===================>] 892.61K  1.77MB/s    in 0.5s    \n",
            "\n",
            "2021-05-15 08:32:09 (1.77 MB/s) - ‘postgresql-42.2.9.jar.1’ saved [914037/914037]\n",
            "\n"
          ],
          "name": "stdout"
        }
      ]
    },
    {
      "cell_type": "code",
      "metadata": {
        "id": "dAPDwXHZUyWZ"
      },
      "source": [
        "from pyspark.sql import SparkSession\n",
        "spark = SparkSession.builder.appName(\"CloudETL_AWS_Book\").config(\"spark.driver.extraClassPath\",\"/content/postgresql-42.2.9.jar\").getOrCreate()"
      ],
      "execution_count": 8,
      "outputs": []
    },
    {
      "cell_type": "code",
      "metadata": {
        "id": "09dRvBRvq8Au"
      },
      "source": [
        "# Configuration for RDS instance\n",
        "mode=\"overwrite\"\n",
        "jdbc_url = \"jdbc:postgresql://big-data-challenge.csldkrhc63yg.ap-southeast-2.rds.amazonaws.com:5432/big_data_db\"\n",
        "config = {\"user\":\"postgres\",\n",
        "          \"password\": \"password\",\n",
        "          \"driver\":\"org.postgresql.Driver\"}"
      ],
      "execution_count": 9,
      "outputs": []
    },
    {
      "cell_type": "code",
      "metadata": {
        "colab": {
          "base_uri": "https://localhost:8080/"
        },
        "id": "i5K3pkyAU-k9",
        "outputId": "55546ffd-3402-48b3-efc2-b793ee96156a"
      },
      "source": [
        "from pyspark import SparkFiles\n",
        "#load software reviews data from s3.amazonaws.com\n",
        "url = \"https://s3.amazonaws.com/amazon-reviews-pds/tsv/amazon_reviews_us_Books_v1_02.tsv.gz\"\n",
        "spark.sparkContext.addFile(url)\n",
        "\n",
        "book_df = spark.read.option(\"header\",\"true\").csv(SparkFiles.get(\"amazon_reviews_us_Books_v1_02.tsv.gz\"), inferSchema=True, dateFormat=\"yyyy-MM-dd\",sep=\"\\t\")\n",
        "book_df.show(10)"
      ],
      "execution_count": 10,
      "outputs": [
        {
          "output_type": "stream",
          "text": [
            "+-----------+-----------+--------------+----------+--------------+--------------------+----------------+-----------+-------------+-----------+----+-----------------+--------------------+--------------------+-----------+\n",
            "|marketplace|customer_id|     review_id|product_id|product_parent|       product_title|product_category|star_rating|helpful_votes|total_votes|vine|verified_purchase|     review_headline|         review_body|review_date|\n",
            "+-----------+-----------+--------------+----------+--------------+--------------------+----------------+-----------+-------------+-----------+----+-----------------+--------------------+--------------------+-----------+\n",
            "|         US|   12076615| RQ58W7SMO911M|0385730586|     122662979|Sisterhood of the...|           Books|          4|            2|          3|   N|                N|this book was a g...|this boook was a ...| 2005-10-14|\n",
            "|         US|   12703090|  RF6IUKMGL8SF|0811828964|      56191234|The Bad Girl's Gu...|           Books|          3|            5|          5|   N|                N|           Fun Fluff|If you are lookin...| 2005-10-14|\n",
            "|         US|   12257412|R1DOSHH6AI622S|1844161560|     253182049|Eisenhorn (A Warh...|           Books|          4|            1|         22|   N|                N| this isn't a review|never read it-a y...| 2005-10-14|\n",
            "|         US|   50732546| RATOTLA3OF70O|0373836635|     348672532|Colby Conspiracy ...|           Books|          5|            2|          2|   N|                N|fine author on he...|Though she is hon...| 2005-10-14|\n",
            "|         US|   51964897|R1TNWRKIVHVYOV|0262181533|     598678717|The Psychology of...|           Books|          4|            0|          2|   N|                N|Execellent cursor...|Review based on a...| 2005-10-14|\n",
            "|         US|   31048862|R2F53LI9KK9MOY|0316769487|     862964341|The Catcher in th...|           Books|          4|            2|          2|   N|                N|   Interesting, fun.|My only complaint...| 2005-10-14|\n",
            "|         US|   53000124|R1KJ6MB7MRSQFF|0805076069|     145341889|Bait and Switch: ...|           Books|          4|            9|         11|   N|                N|I viewed this the...|This book is chil...| 2005-10-14|\n",
            "|         US|   29732693|R2XIM9LT335WHE|1581603681|     640542054|Opening Combinati...|           Books|          4|            3|         10|   N|                N|No Frills - Just ...|When looking for ...| 2005-10-14|\n",
            "|         US|   48541186|R1VE0FQQ0QTQJN|0300108834|     915891133|A Little History ...|           Books|          5|           16|         20|   N|                Y|Simple, entertain...|Never been much f...| 2005-10-14|\n",
            "|         US|   15280864|R1VKEE2NWSWDRU|0446531081|     880645124|Hour Game (King &...|           Books|          4|            0|          0|   N|                N|        A good read!|If you enjoy a we...| 2005-10-14|\n",
            "+-----------+-----------+--------------+----------+--------------+--------------------+----------------+-----------+-------------+-----------+----+-----------------+--------------------+--------------------+-----------+\n",
            "only showing top 10 rows\n",
            "\n"
          ],
          "name": "stdout"
        }
      ]
    },
    {
      "cell_type": "markdown",
      "metadata": {
        "id": "V7VFZBnbVRcW"
      },
      "source": [
        "# **Drop duplicates and incomplete rows**"
      ]
    },
    {
      "cell_type": "code",
      "metadata": {
        "id": "GEmuRh9TVNIV",
        "colab": {
          "base_uri": "https://localhost:8080/"
        },
        "outputId": "690ca9af-6f6c-424c-d577-6b93c07d0198"
      },
      "source": [
        "print(book_df.count())\n",
        "book_df = book_df.dropna()\n",
        "print(book_df.count())\n",
        "book_df = book_df.dropDuplicates()\n",
        "print(book_df.count())"
      ],
      "execution_count": 11,
      "outputs": [
        {
          "output_type": "stream",
          "text": [
            "3105520\n",
            "3105360\n",
            "3105360\n"
          ],
          "name": "stdout"
        }
      ]
    },
    {
      "cell_type": "markdown",
      "metadata": {
        "id": "vilEUB9rVuDF"
      },
      "source": [
        "# **Examine the schema**"
      ]
    },
    {
      "cell_type": "code",
      "metadata": {
        "id": "Bzg34LOKVrXB",
        "colab": {
          "base_uri": "https://localhost:8080/"
        },
        "outputId": "659dcab6-d7a7-458e-841d-9ff40d3999d1"
      },
      "source": [
        "book_df.printSchema()"
      ],
      "execution_count": 12,
      "outputs": [
        {
          "output_type": "stream",
          "text": [
            "root\n",
            " |-- marketplace: string (nullable = true)\n",
            " |-- customer_id: integer (nullable = true)\n",
            " |-- review_id: string (nullable = true)\n",
            " |-- product_id: string (nullable = true)\n",
            " |-- product_parent: integer (nullable = true)\n",
            " |-- product_title: string (nullable = true)\n",
            " |-- product_category: string (nullable = true)\n",
            " |-- star_rating: integer (nullable = true)\n",
            " |-- helpful_votes: integer (nullable = true)\n",
            " |-- total_votes: integer (nullable = true)\n",
            " |-- vine: string (nullable = true)\n",
            " |-- verified_purchase: string (nullable = true)\n",
            " |-- review_headline: string (nullable = true)\n",
            " |-- review_body: string (nullable = true)\n",
            " |-- review_date: string (nullable = true)\n",
            "\n"
          ],
          "name": "stdout"
        }
      ]
    },
    {
      "cell_type": "markdown",
      "metadata": {
        "id": "7Bj60VNUZwtK"
      },
      "source": [
        "# **Transfor Dataframe type**"
      ]
    },
    {
      "cell_type": "code",
      "metadata": {
        "id": "OSOSB65HZ7gh",
        "colab": {
          "base_uri": "https://localhost:8080/"
        },
        "outputId": "81f2ae93-e3dc-476b-e1b3-3d4d2a14003e"
      },
      "source": [
        "import datetime\n",
        "book_df = book_df.withColumn(\"review_date\",book_df[\"review_date\"].cast(\"date\"))\n",
        "book_df.show(5)"
      ],
      "execution_count": 13,
      "outputs": [
        {
          "output_type": "stream",
          "text": [
            "+-----------+-----------+--------------+----------+--------------+--------------------+----------------+-----------+-------------+-----------+----+-----------------+--------------------+--------------------+-----------+\n",
            "|marketplace|customer_id|     review_id|product_id|product_parent|       product_title|product_category|star_rating|helpful_votes|total_votes|vine|verified_purchase|     review_headline|         review_body|review_date|\n",
            "+-----------+-----------+--------------+----------+--------------+--------------------+----------------+-----------+-------------+-----------+----+-----------------+--------------------+--------------------+-----------+\n",
            "|         US|   53066271|R1001W6J9AVY60|0060194839|     496072800|Volumetrics: Feel...|           Books|          4|            7|         13|   N|                N|        Good Book...|I bought this boo...| 2001-05-23|\n",
            "|         US|   49255792|R100JJ4ITUS5NK|0375760628|     447916207|Slave to Fashion:...|           Books|          4|            1|          1|   N|                N|Couldn't put it down|This is a really ...| 2004-04-13|\n",
            "|         US|   49394632|R100M49CK52349|0553380966|     199085075|The Diamond Age: ...|           Books|          5|            2|          4|   N|                N| Diamond are Forever|I am not going to...| 2003-09-17|\n",
            "|         US|   34342725|R100MJQ2PCB17R|1570719276|     875642269|Living La Dolce V...|           Books|          5|            9|         14|   N|                N|this is a wonderf...|I love this book!...| 2003-06-23|\n",
            "|         US|   41458372|R100MQANUTTHLB|1561840580|     557383629|Pacts With the De...|           Books|          5|            6|         10|   N|                N|Lucifer the light...|Great read.  Made...| 2003-12-23|\n",
            "+-----------+-----------+--------------+----------+--------------+--------------------+----------------+-----------+-------------+-----------+----+-----------------+--------------------+--------------------+-----------+\n",
            "only showing top 5 rows\n",
            "\n"
          ],
          "name": "stdout"
        }
      ]
    },
    {
      "cell_type": "code",
      "metadata": {
        "id": "NYP9_VStbk64",
        "colab": {
          "base_uri": "https://localhost:8080/"
        },
        "outputId": "7e34179e-769e-46a5-a3e3-dadb588d2c1e"
      },
      "source": [
        "book_df.printSchema()"
      ],
      "execution_count": 14,
      "outputs": [
        {
          "output_type": "stream",
          "text": [
            "root\n",
            " |-- marketplace: string (nullable = true)\n",
            " |-- customer_id: integer (nullable = true)\n",
            " |-- review_id: string (nullable = true)\n",
            " |-- product_id: string (nullable = true)\n",
            " |-- product_parent: integer (nullable = true)\n",
            " |-- product_title: string (nullable = true)\n",
            " |-- product_category: string (nullable = true)\n",
            " |-- star_rating: integer (nullable = true)\n",
            " |-- helpful_votes: integer (nullable = true)\n",
            " |-- total_votes: integer (nullable = true)\n",
            " |-- vine: string (nullable = true)\n",
            " |-- verified_purchase: string (nullable = true)\n",
            " |-- review_headline: string (nullable = true)\n",
            " |-- review_body: string (nullable = true)\n",
            " |-- review_date: date (nullable = true)\n",
            "\n"
          ],
          "name": "stdout"
        }
      ]
    },
    {
      "cell_type": "markdown",
      "metadata": {
        "id": "WgVaSCuMYZUS"
      },
      "source": [
        "# **Create Dataframe for review_id_table**"
      ]
    },
    {
      "cell_type": "code",
      "metadata": {
        "id": "n1tC-s_7ZlmO",
        "colab": {
          "base_uri": "https://localhost:8080/"
        },
        "outputId": "27e3f5c4-fe79-467d-e5cb-43cbd488ef3b"
      },
      "source": [
        "review_id_df_new = book_df.select([\"review_id\", \"customer_id\", \"product_id\", \"product_parent\", \"review_date\"])\n",
        "review_id_df_new.show(5)"
      ],
      "execution_count": 15,
      "outputs": [
        {
          "output_type": "stream",
          "text": [
            "+--------------+-----------+----------+--------------+-----------+\n",
            "|     review_id|customer_id|product_id|product_parent|review_date|\n",
            "+--------------+-----------+----------+--------------+-----------+\n",
            "|R1001W6J9AVY60|   53066271|0060194839|     496072800| 2001-05-23|\n",
            "|R100JJ4ITUS5NK|   49255792|0375760628|     447916207| 2004-04-13|\n",
            "|R100M49CK52349|   49394632|0553380966|     199085075| 2003-09-17|\n",
            "|R100MJQ2PCB17R|   34342725|1570719276|     875642269| 2003-06-23|\n",
            "|R100MQANUTTHLB|   41458372|1561840580|     557383629| 2003-12-23|\n",
            "+--------------+-----------+----------+--------------+-----------+\n",
            "only showing top 5 rows\n",
            "\n"
          ],
          "name": "stdout"
        }
      ]
    },
    {
      "cell_type": "code",
      "metadata": {
        "id": "SQQCFuC1Y1e5"
      },
      "source": [
        "review_id_df_pre = spark.read.jdbc(url=jdbc_url,table=\"review_id_table\", properties=config)\n",
        "review_id_df = review_id_df_new.union(review_id_df_pre)"
      ],
      "execution_count": 16,
      "outputs": []
    },
    {
      "cell_type": "code",
      "metadata": {
        "id": "20cY-5JthIAS",
        "colab": {
          "base_uri": "https://localhost:8080/"
        },
        "outputId": "76c9e43d-6ed2-4789-f9a9-f2e29b14f435"
      },
      "source": [
        "print(review_id_df.count())\n",
        "review_id_df = review_id_df.dropDuplicates([\"review_id\"])\n",
        "print(review_id_df.count())"
      ],
      "execution_count": 17,
      "outputs": [
        {
          "output_type": "stream",
          "text": [
            "9325975\n",
            "9325975\n"
          ],
          "name": "stdout"
        }
      ]
    },
    {
      "cell_type": "markdown",
      "metadata": {
        "id": "hAt0GE0Nb1mQ"
      },
      "source": [
        "# **Create Dataframe for products_table**"
      ]
    },
    {
      "cell_type": "code",
      "metadata": {
        "id": "-0FRKovuVzby",
        "colab": {
          "base_uri": "https://localhost:8080/"
        },
        "outputId": "0873b574-703b-40ad-cf7b-40dab0bef7e8"
      },
      "source": [
        "products_df_new = book_df.select([\"product_id\", \"product_title\"])\n",
        "products_df_new.show(5)"
      ],
      "execution_count": 18,
      "outputs": [
        {
          "output_type": "stream",
          "text": [
            "+----------+--------------------+\n",
            "|product_id|       product_title|\n",
            "+----------+--------------------+\n",
            "|0060194839|Volumetrics: Feel...|\n",
            "|0375760628|Slave to Fashion:...|\n",
            "|0553380966|The Diamond Age: ...|\n",
            "|1570719276|Living La Dolce V...|\n",
            "|1561840580|Pacts With the De...|\n",
            "+----------+--------------------+\n",
            "only showing top 5 rows\n",
            "\n"
          ],
          "name": "stdout"
        }
      ]
    },
    {
      "cell_type": "code",
      "metadata": {
        "id": "EO5ehklrWI4v"
      },
      "source": [
        "products_df_pre = spark.read.jdbc(url=jdbc_url,table=\"products\", properties=config)\n",
        "products_df=products_df_new.union(products_df_pre)"
      ],
      "execution_count": 19,
      "outputs": []
    },
    {
      "cell_type": "code",
      "metadata": {
        "id": "1eVMuxBJiAgd",
        "colab": {
          "base_uri": "https://localhost:8080/"
        },
        "outputId": "ae5664b3-7118-4351-a132-a60d81d4dc41"
      },
      "source": [
        "print(products_df.count())\n",
        "products_df = products_df.dropDuplicates([\"product_id\"])\n",
        "print(products_df.count())"
      ],
      "execution_count": 20,
      "outputs": [
        {
          "output_type": "stream",
          "text": [
            "4180091\n",
            "1854444\n"
          ],
          "name": "stdout"
        }
      ]
    },
    {
      "cell_type": "markdown",
      "metadata": {
        "id": "lmc93W45b4xf"
      },
      "source": [
        "# **Create Dataframe for customers_table**"
      ]
    },
    {
      "cell_type": "code",
      "metadata": {
        "id": "FyC67k4Db6jh",
        "colab": {
          "base_uri": "https://localhost:8080/"
        },
        "outputId": "e3b4088f-85c9-42d9-f6f8-94ddcf3f357e"
      },
      "source": [
        "customers_df_new = book_df.select([\"customer_id\"])\n",
        "customers_df_new = customers_df_new.groupBy(\"customer_id\").count()\n",
        "customers_df_new.show(5)"
      ],
      "execution_count": 21,
      "outputs": [
        {
          "output_type": "stream",
          "text": [
            "+-----------+-----+\n",
            "|customer_id|count|\n",
            "+-----------+-----+\n",
            "|   51163715|    6|\n",
            "|   12134452|    1|\n",
            "|   52953209|  110|\n",
            "|   50926345|    1|\n",
            "|   17235720|    2|\n",
            "+-----------+-----+\n",
            "only showing top 5 rows\n",
            "\n"
          ],
          "name": "stdout"
        }
      ]
    },
    {
      "cell_type": "code",
      "metadata": {
        "colab": {
          "base_uri": "https://localhost:8080/"
        },
        "id": "UL8a8nKviIO7",
        "outputId": "18ab78cc-a347-462a-9b16-2d23e5a4d6b0"
      },
      "source": [
        "customers_df_pre = spark.read.jdbc(url=jdbc_url,table=\"customers\", properties=config)\n",
        "if customers_df_pre.count():\n",
        "  customers_df=customers_df_new.join(customers_df_pre,on=[\"customer_id\"],how=\"outer\")\n",
        "  customers_df=customers_df.fillna(0)\n",
        "  customers_df=customers_df.withColumn('total', sum(customers_df[col] for col in [\"count\", \"customer_count\"]))\n",
        "  customers_df = customers_df.drop(\"count\", \"customer_count\")\n",
        "  customers_df = customers_df.withColumnRenamed(\"total\", \"customer_count\")\n",
        "  customers_df.show(5)\n",
        "else:\n",
        "  customers_df = customers_df_new.withColumnRenamed(\"count\", \"customer_count\")\n",
        "  customers_df.show(5)"
      ],
      "execution_count": 22,
      "outputs": [
        {
          "output_type": "stream",
          "text": [
            "+-----------+--------------+\n",
            "|customer_id|customer_count|\n",
            "+-----------+--------------+\n",
            "|      10206|             1|\n",
            "|      12940|             3|\n",
            "|      13289|             1|\n",
            "|      13832|             1|\n",
            "|      16574|             1|\n",
            "+-----------+--------------+\n",
            "only showing top 5 rows\n",
            "\n"
          ],
          "name": "stdout"
        }
      ]
    },
    {
      "cell_type": "markdown",
      "metadata": {
        "id": "OJd09i6Tb7FF"
      },
      "source": [
        "# **Create Dataframe for vine_table**"
      ]
    },
    {
      "cell_type": "code",
      "metadata": {
        "id": "NUGCvRwEb9RT",
        "colab": {
          "base_uri": "https://localhost:8080/"
        },
        "outputId": "a7d797cf-c98d-4861-edee-b694f20b15c3"
      },
      "source": [
        "vine_df_new = book_df.select([\"review_id\",\"star_rating\", \"helpful_votes\", \"total_votes\", \"vine\"])\n",
        "vine_df_new.show(5)"
      ],
      "execution_count": 23,
      "outputs": [
        {
          "output_type": "stream",
          "text": [
            "+--------------+-----------+-------------+-----------+----+\n",
            "|     review_id|star_rating|helpful_votes|total_votes|vine|\n",
            "+--------------+-----------+-------------+-----------+----+\n",
            "|R1001W6J9AVY60|          4|            7|         13|   N|\n",
            "|R100JJ4ITUS5NK|          4|            1|          1|   N|\n",
            "|R100M49CK52349|          5|            2|          4|   N|\n",
            "|R100MJQ2PCB17R|          5|            9|         14|   N|\n",
            "|R100MQANUTTHLB|          5|            6|         10|   N|\n",
            "+--------------+-----------+-------------+-----------+----+\n",
            "only showing top 5 rows\n",
            "\n"
          ],
          "name": "stdout"
        }
      ]
    },
    {
      "cell_type": "code",
      "metadata": {
        "id": "5aoPwZ-xY9qc"
      },
      "source": [
        "vine_df_pre = spark.read.jdbc(url=jdbc_url,table=\"vine_table\", properties=config)\n",
        "vine_df = vine_df_new.union(vine_df_pre)"
      ],
      "execution_count": 24,
      "outputs": []
    },
    {
      "cell_type": "code",
      "metadata": {
        "id": "S4y5ShHdiJo6",
        "colab": {
          "base_uri": "https://localhost:8080/"
        },
        "outputId": "0b57550e-8676-4d22-e493-3227ad6f15cb"
      },
      "source": [
        "print(vine_df.count())\n",
        "vine_df = vine_df.dropDuplicates([\"review_id\"])\n",
        "print(vine_df.count())"
      ],
      "execution_count": 25,
      "outputs": [
        {
          "output_type": "stream",
          "text": [
            "9325975\n",
            "9325975\n"
          ],
          "name": "stdout"
        }
      ]
    },
    {
      "cell_type": "markdown",
      "metadata": {
        "id": "2kU7JXaseEa7"
      },
      "source": [
        "# **Write DataFrame to RDS**"
      ]
    },
    {
      "cell_type": "code",
      "metadata": {
        "id": "Rikb7Rwxe7bj"
      },
      "source": [
        "review_id_df.write.jdbc(url=jdbc_url, table=\"review_id_table\", mode=mode, properties=config)"
      ],
      "execution_count": 26,
      "outputs": []
    },
    {
      "cell_type": "code",
      "metadata": {
        "id": "C6i5jCubfCtJ"
      },
      "source": [
        "products_df.write.jdbc(url=jdbc_url, table=\"products\", mode=mode, properties=config)"
      ],
      "execution_count": 27,
      "outputs": []
    },
    {
      "cell_type": "code",
      "metadata": {
        "id": "MO94SbdAfZgR"
      },
      "source": [
        "customers_df.write.jdbc(url=jdbc_url, table=\"customers\", mode=mode, properties=config)"
      ],
      "execution_count": 28,
      "outputs": []
    },
    {
      "cell_type": "code",
      "metadata": {
        "id": "6t2VL00kfbBi"
      },
      "source": [
        "vine_df.write.jdbc(url=jdbc_url, table=\"vine_table\", mode=mode, properties=config)"
      ],
      "execution_count": 29,
      "outputs": []
    },
    {
      "cell_type": "code",
      "metadata": {
        "id": "FwReCjdefctH"
      },
      "source": [
        ""
      ],
      "execution_count": 29,
      "outputs": []
    }
  ]
}